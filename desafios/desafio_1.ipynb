{
 "cells": [
  {
   "cell_type": "markdown",
   "metadata": {
    "colab_type": "text",
    "id": "qimgVFB3r58e"
   },
   "source": [
    "# INF-285 / ILI-285\n",
    "## Desafío 1, v1.01\n",
    "### SCT 2020-1"
   ]
  },
  {
   "cell_type": "markdown",
   "metadata": {
    "colab_type": "text",
    "id": "_pik3saquHQa"
   },
   "source": [
    "# Introducción\n",
    "\n",
    "En el siguiente desafío estudiaremos el comportamiento de $2$ algoritmos para obtener el punto fijo $r$ de funciones $g(x)$, es decir, $r=g(r)$.\n",
    "Es importante destacar que el punto fijo de una función no es lo mismo que la raíz de una función, sin embargo sí están muy relacionados.\n",
    "Solo a modo de recordatorio, la raíz de una función $f(x)$ es encontrar un $\\hat{x}$ tal que $f(\\hat{x})=0$.\n",
    "\n",
    "## Iteración de Punto Fijo\n",
    "\n",
    "El algoritmo llamado Iteración de Punto Fijo (IPF o *FPI*, *Fixed Point Iteration* del inglés) se define de la siguiente forma:\n",
    "\\begin{align*}\n",
    "  x_0 &= \\text{\"Initial guess''},\\\\\n",
    "  x_{i+1} &= g(x_i), \\quad i\\in {1,2,3,\\dots}.\n",
    "\\end{align*}\n",
    "\n",
    "El cual puede o no puede converger a su punto fijo $r=g(r)$ dependiendo del comportamiento de $g(x)$ entorno al punto fijo $r$.\n",
    "En el caso de que la iteración de punto fijo diverja, uno debiera buscar otra forma de encontrar el punto fijo, la otra manera se explica a continuación.\n",
    "\n",
    "## Método de la Bisección\n",
    "\n",
    "En el caso de que la iteración de punto fijo diverja o simplemente converja muy lento, podemos usar convenientemente el Método de la Bisección.\n",
    "Para poder utilizar el Método de la Bisección, debemos adaptarlo, dado que es un algoritmo diseñado para buscar raíces de una función, no puntos fijos de una función.\n",
    "La adaptación consiste en escribir convenientemente la búsqueda de un punto fijo como la búsqueda de una raíz de la siguiente forma,\n",
    "\\begin{equation}\n",
    "  f(x) = x - g(x),\n",
    "\\end{equation}\n",
    "\n",
    "donde podemos comprobar que si evaluamos la función $f(x)$ en el punto fijo de $g(x)$ obtenemos la equivalencia,\n",
    "\\begin{equation}\n",
    "  f(r) = r - g(r)=0.\n",
    "\\end{equation}\n",
    "\n",
    "Por lo tanto, ¡hemos exitosamente conectado un problema de punto fijo con un problema de búsqueda de ceros!\n",
    "\n",
    "**De esta forma ambos métodos podrían ser útiles si necesitamos encontrar puntos fijos de funciones**.\n",
    "\n",
    "Comentario: ¿Puede visualizar ahora el como utilizar búsqueda de puntos fijos para encontrar raíces de funciones?"
   ]
  },
  {
   "cell_type": "markdown",
   "metadata": {
    "colab_type": "text",
    "id": "eEBrFbq50kES"
   },
   "source": [
    "# Ejercicio\n"
   ]
  },
  {
   "cell_type": "code",
   "execution_count": 10,
   "metadata": {
    "colab": {},
    "colab_type": "code",
    "id": "qGeqEAB2mNug"
   },
   "outputs": [],
   "source": [
    "# Bibliotecas necesarias\n",
    "import numpy as np\n",
    "import matplotlib.pyplot as plt"
   ]
  },
  {
   "cell_type": "markdown",
   "metadata": {
    "colab_type": "text",
    "id": "qluMnQPHy_OI"
   },
   "source": [
    "Se solicita implementar una rutina ```obtener_punto_fijo``` que reciba la función $g(x)$, un intervalo $[a, b]$ y un ```n_iter```, que indica el máximo número de iteraciones que pueden utilizar los métodos de bisección y punto fijo.\n",
    "Notar que los métodos deben retornar la secuencia de soluciones obtenidas hasta que se logra la convergencia, es necesario que cuando se logre el punto fijo no se retorne una secuencia de valores repetidos, si no que se trunque el vector de salida hasta donde empezó a repetirse el valor respectivo, de otra forma se estará dividiendo por $0$ en la explicación incluida más adelante.\n",
    "\n",
    "El retorno de la rutina debe ser la mejor solución aproximada ```x_sol```, y una estructura del tipo \n",
    "```[('biseccion', tasa_bisección), ('punto fijo', tasa_punto_fijo)]```, donde se reporta el algoritmo (en el orden solicitado) y la tasa de convergencia respectiva.\n",
    "Por lo tanto la firma de la función debería quedar como:\n",
    "```python\n",
    "  def obtener_punto_fijo(g, a, b, n_iter):\n",
    "    # Su algoritmo...\n",
    "\n",
    "    resultado = [('biseccion', tasa_biseccion), ('punto fijo', tasa_punto_fijo)]\n",
    "    x_sol = ...\n",
    "    return x_sol, resultado\n",
    "```\n",
    "\n",
    "La idea es que su algoritmo permita retornar la solución asociada al método con mejor *tasa de convergencia*."
   ]
  },
  {
   "cell_type": "markdown",
   "metadata": {
    "colab_type": "text",
    "id": "VtpyCvWM00H0"
   },
   "source": [
    "Para que pueda calcular la *tasa de convergencia* se pone a disposición la función ```obtener_tasa(ratio)```, que recibe un arreglo con los cocientes de la estimación numérica de los errores en cada iteración. Los cuales deben ser obtenidos de la siguiente forma:\n",
    "\\begin{equation}\n",
    "  ratio_i = \\frac{|x_{i+1} - x_i|}{|x_i - x_{i-1}|}\n",
    "\\end{equation}"
   ]
  },
  {
   "cell_type": "code",
   "execution_count": 11,
   "metadata": {
    "colab": {},
    "colab_type": "code",
    "id": "gMnDnwQ-H0KW"
   },
   "outputs": [],
   "source": [
    "def obtener_tasa(ratio):\n",
    "    hist, bin_edges = np.histogram(ratio, bins=10000)\n",
    "    k = np.argmax(hist)\n",
    "    return np.round((bin_edges[k] + bin_edges[k+1]) / 2, 5)"
   ]
  },
  {
   "cell_type": "markdown",
   "metadata": {
    "colab_type": "text",
    "id": "ow0jA-pR2TNe"
   },
   "source": [
    "Además, para que pueda probar el funcionamiento de su procedimiento, se ponen a disposición las siguientes funciones y los intevalos donde debe buscar el punto fijo:"
   ]
  },
  {
   "cell_type": "code",
   "execution_count": 12,
   "metadata": {
    "colab": {},
    "colab_type": "code",
    "id": "hMuaMxSdmSIR"
   },
   "outputs": [],
   "source": [
    "g1 = lambda x: np.cos(x) # Intervalo: [0, 1]\n",
    "g2 = lambda x: 3 / (x-2) # Intervalo: [-3, 0]\n",
    "g3 = lambda x: (x + 10.) ** (1 / 4) # Intervalo: [0, 2]\n",
    "g4 = lambda x: 3 + 2 * np.sin(x) # Intervalo: [-5, 5]\n",
    "g5 = lambda x: np.cos(x) / np.exp(x) # Intervalo: [0, 4]\n",
    "g6 = lambda x: (np.exp(x) + x ** 3 + 4 * x ** 2 + 2 * x + 2) / (x ** 2 + 3 * x - 3) # Intervalo: [-1, 0]\n",
    "g7 = lambda x: np.exp((np.exp(-x) / 3)) # Intervalo: [0, 2]\n",
    "g8 = lambda x: -0.5 * x + 3 / 2 # Intervalo: [0, 1]\n",
    "g9 = lambda x: (x ** 3 - 5) / 2 # Intervalo: [2, 3]\n",
    "g10 = lambda x: -1 + 1.5 * x # Intervalo: [0,10]\n",
    "g11 = lambda x: 0.7 + 1.7 * x # Intervalo: [-10,10]"
   ]
  },
  {
   "cell_type": "code",
   "execution_count": 30,
   "metadata": {},
   "outputs": [],
   "source": [
    "# Se reescribieron en el formato (f(x), a, b) para ingresarlas a la funcion mas facilmente\n",
    "g1 = (lambda x: np.cos(x), 0, 1)\n",
    "g2 = (lambda x: 3 / (x-2), -3, 0)\n",
    "g3 = (lambda x: (x + 10.) ** (1 / 4), 0, 2)\n",
    "g4 = (lambda x: 3 + 2 * np.sin(x), -5, 5)\n",
    "g5 = (lambda x: np.cos(x) / np.exp(x), 0, 4)\n",
    "g6 = (lambda x: (np.exp(x) + x ** 3 + 4 * x ** 2 + 2 * x + 2) / (x ** 2 + 3 * x - 3), -1, 0)\n",
    "g7 = (lambda x: np.exp((np.exp(-x) / 3)), 0, 2)\n",
    "g8 = (lambda x: -0.5 * x + 3 / 2, 0, 1)\n",
    "g9 = (lambda x: (x ** 3 - 5) / 2, 2, 3)\n",
    "g10 = (lambda x: -1 + 1.5 * x, 0,10)\n",
    "g11 = (lambda x: 0.7 + 1.7 * x, -10,10)"
   ]
  },
  {
   "cell_type": "markdown",
   "metadata": {
    "colab_type": "text",
    "id": "InfGOnZqKDIF"
   },
   "source": [
    "Se incluye a continuación el enunciado de la función que usted debe entregar:"
   ]
  },
  {
   "cell_type": "code",
   "execution_count": 132,
   "metadata": {
    "colab": {},
    "colab_type": "code",
    "id": "Gn06N_slnCa0"
   },
   "outputs": [],
   "source": [
    "def bisection(f, a, b, n_iter):\n",
    "    # CONSIDERE el caso que f(a) * f(b) sea positivo\n",
    "    # RECUERDE no incluir valores repetidos al final de la secuencia del arreglo de salida para no tener errores igual a 0\n",
    "    g = lambda x: x - f(x)\n",
    "    x = []\n",
    "    c_value = 0\n",
    "    if g(a)*g(b) > 0:\n",
    "        return []\n",
    "    for i in range(n_iter):\n",
    "        c_value = (a+b)/2\n",
    "        \n",
    "        if g(a)*g(c_value) <= 0: b = c_value\n",
    "        else: a = c_value\n",
    "        \n",
    "        if len(x) > 0 and c_value == x[-1]:\n",
    "            return x\n",
    "        x.append(c_value)\n",
    "    return x"
   ]
  },
  {
   "cell_type": "code",
   "execution_count": 133,
   "metadata": {},
   "outputs": [],
   "source": [
    "for i, f in enumerate([g1, g2, g3,g4,g5,g6,g7,g8,g9,g10,g11]):\n",
    "    if len(bisection(*f, 10)) == 0: print(\"No converge con g{}\".format(i))"
   ]
  },
  {
   "cell_type": "code",
   "execution_count": 134,
   "metadata": {
    "colab": {},
    "colab_type": "code",
    "id": "5U7xY9GmxIPg"
   },
   "outputs": [],
   "source": [
    "def fpi(g, x_0, n_iter):\n",
    "    # CONSIDERE que el metodo puede no converger\n",
    "    # RECUERDE no incluir valores repetidos al final de la secuencia del arreglo de salida para no tener errores igual a 0\n",
    "    x = []\n",
    "    c_value = 0\n",
    "    for i in range(n_iter):\n",
    "        c_value = g(c_value)\n",
    "        \n",
    "        # Caso cuando el valor ya no se actualice\n",
    "        if len(x) > 0 and c_value == x[-1]: return x\n",
    "        \n",
    "        # Comprobar divergencia\n",
    "        if len(x) > 0:\n",
    "            a, b = max(c_value, x[-1]), min(c_value, x[-1])\n",
    "            dg = (g(b) - g(a)) / (b - a)\n",
    "            if np.abs(dg) > 1:\n",
    "                return []\n",
    "        \n",
    "        x.append(c_value)\n",
    "    return x"
   ]
  },
  {
   "cell_type": "code",
   "execution_count": 135,
   "metadata": {},
   "outputs": [
    {
     "name": "stdout",
     "output_type": "stream",
     "text": [
      "Diverge g4 con -5\n",
      "Diverge g4 con 5\n",
      "Diverge g9 con 2\n",
      "Diverge g9 con 3\n",
      "Diverge g10 con 0\n",
      "Diverge g10 con 10\n",
      "Diverge g11 con -10\n",
      "Diverge g11 con 10\n"
     ]
    }
   ],
   "source": [
    "for i, (f, a, b) in enumerate([g1, g2, g3,g4,g5,g6,g7,g8,g9,g10,g11]):\n",
    "    i += 1\n",
    "    if len(fpi(f, a, 10)) == 0:\n",
    "        print(\"Diverge g{} con {}\".format(i, a))\n",
    "    if len(fpi(f, b, 10)) == 0:\n",
    "        print(\"Diverge g{} con {}\".format(i, b))"
   ]
  },
  {
   "cell_type": "code",
   "execution_count": 136,
   "metadata": {},
   "outputs": [],
   "source": [
    "def calc_ratio(values):\n",
    "    ratios = []\n",
    "    for i in range(1, len(values) - 1):\n",
    "        _ratio = np.abs(values[i+1] - values[i])/np.abs(values[i] - values[i-1])\n",
    "        ratios.append(_ratio)\n",
    "    return ratios"
   ]
  },
  {
   "cell_type": "code",
   "execution_count": 137,
   "metadata": {
    "colab": {},
    "colab_type": "code",
    "id": "0ug6PrYzKIaM"
   },
   "outputs": [],
   "source": [
    "def obtener_punto_fijo(g, a, b, n_iter):\n",
    "    # Calcular utilizando los métodos\n",
    "    v_biseccion = bisection(g, a, b, n_iter)\n",
    "    v_fpi = fpi(g, a, n_iter)\n",
    "    # ratios\n",
    "    r_biseccion = calc_ratio(v_biseccion) if len(v_biseccion) > 0 else 0\n",
    "    r_fpi = calc_ratio(v_fpi) if len(v_fpi) > 0 else 0\n",
    "    # Calcular las tasas\n",
    "    tasa_biseccion = obtener_tasa(r_biseccion) if r_biseccion != 0 else 0\n",
    "    tasa_punto_fijo = obtener_tasa(r_fpi) if r_fpi != 0 else 0\n",
    "    resultado = [('biseccion', tasa_biseccion), ('punto fijo', tasa_punto_fijo)]\n",
    "    x_sol = v_fpi[-1] if tasa_punto_fijo > tasa_biseccion else v_biseccion[-1]\n",
    "    return x_sol, resultado"
   ]
  },
  {
   "cell_type": "code",
   "execution_count": 140,
   "metadata": {},
   "outputs": [
    {
     "name": "stdout",
     "output_type": "stream",
     "text": [
      "(0.7390851332151607, [('biseccion', 0.50002), ('punto fijo', 0.67362)]),\n",
      "(-1.0, [('biseccion', 0.50003), ('punto fijo', 0.33333)]),\n",
      "(1.8555845286409376, [('biseccion', 0.50002), ('punto fijo', 0.03913)]),\n",
      "(3.094383413049277, [('biseccion', 0.50001), ('punto fijo', 0)]),\n",
      "(0.5177573640652222, [('biseccion', 0.50002), ('punto fijo', 0.81266)]),\n",
      "(-0.5791589060508371, [('biseccion', 0.50002), ('punto fijo', 3e-05)]),\n",
      "(1.1154480172165404, [('biseccion', 0.50002), ('punto fijo', 0.12187)]),\n",
      "(1.0, [('biseccion', 0.50002), ('punto fijo', 0.49999)]),\n",
      "(2.094551481542327, [('biseccion', 0.50002), ('punto fijo', 0)]),\n",
      "(2.0, [('biseccion', 0.50001), ('punto fijo', 0)]),\n",
      "(-1.0, [('biseccion', 0.50002), ('punto fijo', 0)]),\n"
     ]
    }
   ],
   "source": [
    "for i, f in enumerate([g1, g2, g3,g4,g5,g6,g7,g8,g9,g10,g11]):\n",
    "    print(obtener_punto_fijo(*f, 101), end=',\\n')"
   ]
  },
  {
   "cell_type": "code",
   "execution_count": 128,
   "metadata": {},
   "outputs": [
    {
     "name": "stdout",
     "output_type": "stream",
     "text": [
      "Testeando caso 1\n",
      "Ratio biseccion difieren -2.999999999997449e-05\n",
      "Ratio fpi difieren: -2.0000000000020002e-05\n",
      "\n",
      "\n",
      "Testeando caso 2\n",
      "El valor difiere 2.220446049250313e-16\n",
      "Ratio biseccion difieren 3.999999999998449e-05\n",
      "Ratio fpi difieren: 2.0000000000020002e-05\n",
      "\n",
      "\n",
      "Testeando caso 3\n",
      "El valor difiere 2.220446049250313e-16\n",
      "Ratio biseccion difieren -2.999999999997449e-05\n",
      "\n",
      "\n",
      "Testeando caso 4\n",
      "El valor difiere 2.220446049250313e-15\n",
      "Ratio biseccion difieren -2.0000000000020002e-05\n",
      "\n",
      "\n",
      "Testeando caso 5\n",
      "Ratio biseccion difieren -2.999999999997449e-05\n",
      "\n",
      "\n",
      "Testeando caso 6\n",
      "El valor difiere 2.220446049250313e-16\n",
      "Ratio biseccion difieren -2.999999999997449e-05\n",
      "Ratio fpi difieren: 1.9999999999999998e-05\n",
      "\n",
      "\n",
      "Testeando caso 7\n",
      "El valor difiere 2.220446049250313e-16\n",
      "Ratio biseccion difieren -2.999999999997449e-05\n",
      "\n",
      "\n",
      "Testeando caso 8\n",
      "Ratio fpi difieren: 1.0000000000010001e-05\n",
      "\n",
      "\n",
      "Testeando caso 9\n",
      "Ratio biseccion difieren -2.999999999997449e-05\n",
      "\n",
      "\n",
      "Testeando caso 10\n",
      "El valor difiere 8.881784197001252e-16\n",
      "Ratio biseccion difieren 1.0000000000065512e-05\n",
      "\n",
      "\n",
      "Testeando caso 11\n",
      "El valor difiere 2.220446049250313e-16\n",
      "\n",
      "\n"
     ]
    }
   ],
   "source": [
    "# gaspar = \n",
    "gaspar = [(0.7390851332151607, [('biseccion', 0.50005), ('punto fijo', 0.67364)]),\n",
    "(-1.0, [('biseccion', 0.49999), ('punto fijo', 0.33331)]),\n",
    "(1.8555845286409378, [('biseccion', 0.50005), ('punto fijo', 0.03913)]),\n",
    "(3.0943834130492776, [('biseccion', 0.50005), ('punto fijo', 0)]),\n",
    "(0.5177573632114603, [('biseccion', 0.50005), ('punto fijo', 0.81266)]),\n",
    "(-0.5791589060508369, [('biseccion', 0.50005), ('punto fijo', 1e-05)]),\n",
    "(1.1154480172165406, [('biseccion', 0.50005), ('punto fijo', 0.12187)]),\n",
    "(1.0, [('biseccion', 0.50002), ('punto fijo', 0.49998)]),\n",
    "(2.094551481542327, [('biseccion', 0.50005), ('punto fijo', 0)]),\n",
    "(2.0, [('biseccion', 0.50001), ('punto fijo', 0)]),\n",
    "(-1.0, [('biseccion', 0.50001), ('punto fijo', 0)])]\n",
    "\n",
    "me = [(0.7390851332151607, [('biseccion', 0.50002), ('punto fijo', 0.67362)]),\n",
    "(-0.9999999999999998, [('biseccion', 0.50003), ('punto fijo', 0.33333)]),\n",
    "(1.855584528640938, [('biseccion', 0.50002), ('punto fijo', 0.03913)]),\n",
    "(3.0943834130492798, [('biseccion', 0.50003), ('punto fijo', 0)]),\n",
    "(0.5177573632114603, [('biseccion', 0.50002), ('punto fijo', 0.81266)]),\n",
    "(-0.5791589060508366, [('biseccion', 0.50002), ('punto fijo', 3e-05)]),\n",
    "(1.1154480172165409, [('biseccion', 0.50002), ('punto fijo', 0.12187)]),\n",
    "(1.0, [('biseccion', 0.50002), ('punto fijo', 0.49999)]),\n",
    "(2.094551481542327, [('biseccion', 0.50002), ('punto fijo', 0)]),\n",
    "(2.000000000000001, [('biseccion', 0.50002), ('punto fijo', 0)]),\n",
    "(-0.9999999999999998, [('biseccion', 0.50001), ('punto fijo', 0)])]\n",
    "\n",
    "for i, ((val1, [(_, b1), (_, f1)]), (val2, [(_, b2), (_, f2)])) in enumerate(zip(me, gaspar)):\n",
    "    print(f\"Testeando caso {i+1}\")\n",
    "    if val1 != val2:\n",
    "        print(f\"El valor difiere {val1 - val2}\")\n",
    "    if b1 != b2:\n",
    "        print(f\"Ratio biseccion difieren {b1-b2}\")\n",
    "    if f1 != f2:\n",
    "        print(f\"Ratio fpi difieren: {f1-f2}\")\n",
    "    print(\"\\n\")"
   ]
  },
  {
   "cell_type": "code",
   "execution_count": 130,
   "metadata": {},
   "outputs": [
    {
     "data": {
      "text/plain": [
       "-0.9999999999999996"
      ]
     },
     "execution_count": 130,
     "metadata": {},
     "output_type": "execute_result"
    }
   ],
   "source": [
    "g11[0](-0.9999999999999998)"
   ]
  },
  {
   "cell_type": "code",
   "execution_count": 131,
   "metadata": {},
   "outputs": [
    {
     "data": {
      "text/plain": [
       "-1.0"
      ]
     },
     "execution_count": 131,
     "metadata": {},
     "output_type": "execute_result"
    }
   ],
   "source": [
    "g11[0](-1.0)"
   ]
  },
  {
   "cell_type": "code",
   "execution_count": null,
   "metadata": {},
   "outputs": [],
   "source": []
  }
 ],
 "metadata": {
  "colab": {
   "collapsed_sections": [],
   "name": "desafio_1.ipynb",
   "provenance": []
  },
  "kernelspec": {
   "display_name": "Python 3",
   "language": "python",
   "name": "python3"
  },
  "language_info": {
   "codemirror_mode": {
    "name": "ipython",
    "version": 3
   },
   "file_extension": ".py",
   "mimetype": "text/x-python",
   "name": "python",
   "nbconvert_exporter": "python",
   "pygments_lexer": "ipython3",
   "version": "3.7.6"
  }
 },
 "nbformat": 4,
 "nbformat_minor": 4
}
