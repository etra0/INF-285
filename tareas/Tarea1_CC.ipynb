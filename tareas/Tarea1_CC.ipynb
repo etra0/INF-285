{
  "nbformat": 4,
  "nbformat_minor": 0,
  "metadata": {
    "colab": {
      "name": "Tarea1-CC.ipynb",
      "provenance": [],
      "collapsed_sections": [],
      "toc_visible": true
    },
    "kernelspec": {
      "name": "python3",
      "display_name": "Python 3"
    }
  },
  "cells": [
    {
      "cell_type": "markdown",
      "metadata": {
        "id": "aBPGOpUM11V1",
        "colab_type": "text"
      },
      "source": [
        "\n",
        "<center>\n",
        "    <h1> INF285/ILI285 Computación Científica </h1>\n",
        "    <h1> Tarea N°1, v1.00 </h1>\n",
        "    \n",
        "</center>\n",
        "\n",
        "<p>\n",
        "\n",
        "</p>"
      ]
    },
    {
      "cell_type": "markdown",
      "metadata": {
        "id": "B7MCAVSDRk3l",
        "colab_type": "text"
      },
      "source": [
        "## Instrucciones\n",
        "\n",
        "* La tarea es individual.\n",
        "* Las consultas sobre las tareas se deben realizar por medio de la plataforma Aula.\n",
        "* La tarea debe ser realizada en `Jupyter Notebook` (`Python3`).\n",
        "* Se evaluará la correcta utilización de librerias `NumPy`, `SciPy`, entre otras, así como la correcta implementación de algoritmos de forma vectorizada.\n",
        "*  **El archivo de entrega debe denominarse ROL-tarea-numero.ipynb**. _De no respetarse este formato existirá un descuento de **50 puntos**_\n",
        "* La fecha de entrega es el jueves 30 de Abril a las **18:00 hrs**.  Se aceptarán entregas hasta las 19:00 hrs sin descuento en caso de existir algun problema, posteriormente existirá un descuento lineal hasta las 20:00 hrs del mismo día.\n",
        "* Las tareas que sean entregadas antes del jueves a mediodía recibirán una bonificación de 10 puntos\n",
        "* Debe citar cualquier código ajeno utilizado (incluso si proviene de los Jupyter Notebooks del curso).\n",
        "\n",
        "\n"
      ]
    },
    {
      "cell_type": "markdown",
      "metadata": {
        "id": "PNhvmtRq2Orx",
        "colab_type": "text"
      },
      "source": [
        "## Introducción \n",
        "\n",
        "En esta primera tarea de INF/ILI-285, versión 2020-1, estudiaremos la importancia de los primeros temas estudiados en el curso, los cuales son: Representación de Punto Flotante, Pérdida de Significancia, Errores de Cancelación y Búsqueda de Ceros. El desarrollo de cada uno de esos temas se presenta en una serie de preguntas, donde ustedes deben ir decidiendo, pregunta a pregunta, como cada uno de los temas se aplica. En general, los temas no se analizan por separado, sino de manera acoplada. Es muy importante que cada uno de los problemas sea analizado teóricamente primero, para luego poner su conocimiento en acción. Cada problema puede ser desarrollado de diversas formas, sin embargo, es muy importante determinar al final si el camino elegido resuelve la pregunta presentada."
      ]
    },
    {
      "cell_type": "markdown",
      "metadata": {
        "id": "lAtn1U0qRg2S",
        "colab_type": "text"
      },
      "source": [
        "## Problemas"
      ]
    },
    {
      "cell_type": "markdown",
      "metadata": {
        "id": "3znHUOxOUB0-",
        "colab_type": "text"
      },
      "source": [
        "### 1. Simulador (50 ptos) \n",
        "\n",
        "Dada la familia de polinomios de grado 3 con la forma:\n",
        "\n",
        "\n",
        "\\begin{equation}\n",
        "f(x)=x^3 - A\\,x^2 + A\\,x - 1\n",
        "\\end{equation}\n",
        "\n",
        "\n",
        "Se pide implementar un algoritmo que reciba como parámetros el valor de $A$ (con $|A|>>1$) y la cantidad de bits que tiene en la mantisa un computador ficticio, el manejo del exponente debe considerarse de las misma forma que lo maneja _double precision_.\n",
        "Esta implementación debe calcular las raíces de $f$ sin perdida de significancia con la cantidad de bits disponibles para la mantisa.\n",
        "Para obtener las raíces de $f$ usted debe encontrar de forma algebraica sus raíces y luego proponer un algoritmo basado en las _fórmulas_ obtenidas.\n",
        "\n",
        "Considere que en ese computador ficticio cuenta con las operaciones matemáticas necesarias para obtener las raíces.  Considere el siguiente ejemplo:\n",
        "\n",
        "```python\n",
        "# Alg. Base\n",
        "a = 9819824.624837\n",
        "b = 148736.523476\n",
        "c = a+b\n",
        "\n",
        "# Alg. con Representación de Punto Flotante de 'bits_mant' bits en la mantisa.\n",
        "am = f_new_rep(9819824.624837,bits_mant) # Aproximar el input en la nueva representación.\n",
        "bm = f_new_rep(148736.523476,bits_mant) # Aproximar el input en la nueva representación.\n",
        "cm = f_new_rep(m,exp,am+bm) # Aproximar el output de la suma y cada operación en la nueva representación.\n",
        "```\n"
      ]
    },
    {
      "cell_type": "code",
      "metadata": {
        "id": "2efm5YD2UBGD",
        "colab_type": "code",
        "colab": {}
      },
      "source": [
        "\"\"\"\n",
        "input\n",
        "x         : (double) valor a evaluar\n",
        "bits_mant : (int) cantidad de bits de la mantisa\n",
        "output\n",
        "eval      : (double) resultado obtenido\n",
        "\"\"\"\n",
        "def f_new_rep(x,bits_mant):\n",
        "  # Algoritmo de representación de punto flotante modificada.\n",
        "  result={}\n",
        "  return  result\n",
        "\n",
        "def f_find_roots(A,bits_mant):\n",
        "  # Algoritmo para encontrar raíces de f(x).\n",
        "  return x_roots\n"
      ],
      "execution_count": 0,
      "outputs": []
    },
    {
      "cell_type": "markdown",
      "metadata": {
        "id": "Nw-jJfD-VPMa",
        "colab_type": "text"
      },
      "source": [
        "### Polinomios de Legendre (50 puntos)\n",
        "Dada la función compuesta $f$\n",
        "\\begin{equation}\n",
        "f_{n,m}(x) = L_n(C_m(x)),\n",
        "\\end{equation}\n",
        "donde $L_n$ es conocido como el polinomio de Legendre de grado $n$ definido de la siguiente forma:\n",
        "\\begin{equation}\n",
        "L_{n}(x)=\\frac{1}{2^{n}} \\sum_{k=0}^{n}\\left(\\begin{array}{l}\n",
        "n \\\\\n",
        "k\n",
        "\\end{array}\\right)^{2}(x-1)^{n-k}(x+1)^{k},\n",
        "\\end{equation}\n",
        "y $C_m$ es el polinomio de Chebyshev\n",
        "\\begin{equation}\n",
        "C_m(x) = \\cos(m \\cdot \\arccos(x)).\n",
        "\\end{equation}\n",
        "\n",
        "Utilizando el método de Bisección y Punto fijo se pide obtener la raíz de $f$ más cercana a $0.5$ dado un valor de $m$ y $n$\n",
        "\n",
        "\n",
        "\n",
        "*Hint: Las raíces de Legendre son conocidas*\n",
        "\n"
      ]
    },
    {
      "cell_type": "code",
      "metadata": {
        "id": "x0rfc_-6JTrG",
        "colab_type": "code",
        "colab": {}
      },
      "source": [
        "\"\"\"\n",
        "input\n",
        "n: (int) grado del polinomio de Legendre\n",
        "m: (int) grado del polinomio de Chebyshev\n",
        "tol: (double) tolerancia para la detención del algoritmo\n",
        "output\n",
        "root: (double) raiz obtenida\n",
        "\"\"\"\n",
        "def f_Biseccion(n, m, tol):\n",
        "    ##\n",
        "    return root\n",
        "\n",
        "def f_FPI(n, m, tol):\n",
        "    return root"
      ],
      "execution_count": 0,
      "outputs": []
    },
    {
      "cell_type": "markdown",
      "metadata": {
        "id": "sv7nBimeVOT2",
        "colab_type": "text"
      },
      "source": [
        "###  Determinantes (20 puntos)"
      ]
    },
    {
      "cell_type": "markdown",
      "metadata": {
        "id": "fZPW_hUvQTW_",
        "colab_type": "text"
      },
      "source": [
        "Dada una matriz de dimensiones $ n \\times n$ de la forma:\n",
        "\\begin{equation}\n",
        "A\n",
        "=\n",
        "\\begin{pmatrix}\n",
        "a_{1,1} & a_{1,2}  & \\dots & a_{1,n} \\\\\n",
        "a_{2,1} & a_{2,2}  & \\dots & a_{2,n} \\\\\n",
        "\\vdots &  \\vdots   & \\ddots & \\vdots \\\\\n",
        "a_{n,1} & a_{n,2}  & \\dots & a_{n,n}\n",
        "\\end{pmatrix}\n",
        "=\n",
        "\\begin{pmatrix}\n",
        "\\mathbf{r}_1 \\\\\n",
        "\\mathbf{r}_2 \\\\\n",
        "\\vdots \\\\\n",
        "\\mathbf{r}_n \\\\\n",
        "\\end{pmatrix},\n",
        "\\end{equation}\n",
        "donde $\\mathbf{r}_k$ representa la $k$-ésima fila de la matriz $A$.\n",
        "Considere la siguiente matriz $C_{i,j}(\\alpha)$,\n",
        "\\begin{equation}\n",
        "C_{i,j}(\\alpha)\n",
        "=\n",
        "\\begin{pmatrix}\n",
        "\\mathbf{r}_1 \\\\\n",
        "\\vdots \\\\\n",
        "\\mathbf{r}_i\\,(1-\\alpha)+\\mathbf{r}_j\\,\\alpha \\\\\n",
        "\\vdots \\\\\n",
        "\\mathbf{r}_j\\,(1-\\alpha)+\\mathbf{r}_i\\,\\alpha \\\\\n",
        "\\vdots \\\\\n",
        "\\mathbf{r}_n \\\\\n",
        "\\end{pmatrix},\n",
        "\\end{equation}\n",
        "de lo cual sabemos que $C_{i,j}(0)=A$ y que $C_{i,j}(1)$ es la matriz $A$ donde se intercambiaron las filas $i$ y $j$, es decir:\n",
        "\\begin{equation}\n",
        "C_{i,j}(1)\n",
        "=\n",
        "\\begin{pmatrix}\n",
        "\\mathbf{r}_1 \\\\\n",
        "\\vdots \\\\\n",
        "\\mathbf{r}_j \\\\\n",
        "\\vdots \\\\\n",
        "\\mathbf{r}_i \\\\\n",
        "\\vdots \\\\\n",
        "\\mathbf{r}_n \\\\\n",
        "\\end{pmatrix}.\n",
        "\\end{equation}\n",
        "De las relaciones anteriores podemos concluir que el determinante de la matriz $A$, denominado $D=\\det(A)$, es igual al determinante de $C_{i,j}(0)$, es decir $\\det(C_{i,j}(0))=\\det(A)=D$.\n",
        "Por el otro lado, el determinante de $C_{i,j}(1)$ es $-D$, dado que es el intercambio de las filas $i$ y $j$ de la matriz $A$.\n",
        "Por lo cual podemos concluir que $-D\\leq \\det(C_{i,j}(\\alpha))\\leq D$.\n",
        "\n",
        "Utilizando el método de Bisección debe encontrar el valor de $\\alpha$ con $p$ decimales de precisión que permitan que, dado los índices de las filas $i$, $j$, y $i\\neq j$, el determinante de la matriz sea igual a $d$, donde $d\\in[-D,D]$. \n",
        "\n",
        "Para esto se debe implementar una función que reciba la matriz $A$, las filas $i$ y $j$, y $p$; y retorne $\\widehat{\\alpha}$ tal que $\\det(C_{i,j}(\\widehat{\\alpha}))=d$.\n"
      ]
    },
    {
      "cell_type": "code",
      "metadata": {
        "id": "ZewzBMC0WevO",
        "colab_type": "code",
        "colab": {}
      },
      "source": [
        "\"\"\"\n",
        "input\n",
        "A: (array n x n) matriz\n",
        "i: (int) índice de la fila \"i\".\n",
        "j: (int) índice de la fila \"j\".\n",
        "p: (int) cantidad de decimales de precision \n",
        "d: (double) valor requerido del determinante de $C_{i,j}(\\alpha)$, i.e. $\\det(C_{i,j}(\\widehat{\\alpha}))=d$.\n",
        "output\n",
        "alpha_hat: (double) alpha_hat tal que det(C_{i,j}(alpha_hat))=d.\n",
        "\"\"\"\n",
        "def find_alpha_hat(A,i,j,p,d):\n",
        "  # Algoritmo a desarrollar, note que usted debe definir el intervalo a utilizar en el método de la bisección.\n",
        "  return alpha_hat"
      ],
      "execution_count": 0,
      "outputs": []
    },
    {
      "cell_type": "markdown",
      "metadata": {
        "id": "gVOkWN_zrvR9",
        "colab_type": "text"
      },
      "source": [
        "# Referencias\n",
        "\n",
        "Si corresponde"
      ]
    }
  ]
}