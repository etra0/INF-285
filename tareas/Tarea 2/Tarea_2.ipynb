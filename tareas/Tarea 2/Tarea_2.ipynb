{
 "cells": [
  {
   "cell_type": "markdown",
   "metadata": {
    "colab_type": "text",
    "id": "pVd0tF-m0Jb2"
   },
   "source": [
    "## INF-285 \n",
    "#Tarea 2: SVD y PCA"
   ]
  },
  {
   "cell_type": "markdown",
   "metadata": {
    "colab_type": "text",
    "id": "JghL-XhvvGKq"
   },
   "source": [
    "# Instrucciones\n",
    "* La tarea es individual.\n",
    "* Las consultas sobre las tareas se deben realizar por medio de la plataforma Aula.\n",
    "* La tarea debe ser realizada en Jupyter Notebook (Python 3).\n",
    "* Se evaluará la correcta utilización de librerias ```NumPy```, ```SciPy```, entre otras, así como la correcta implementación de algoritmos de forma vectorizada.\n",
    "* El archivo de entrega debe denominarse **ROL-tarea-numero.ipynb**. De no respetarse este formato existirá un descuento de 50 puntos\n",
    "* La fecha de entrega es el viernes 29 de Mayo a las 18:00 hrs. Se aceptarán entregas hasta las 19:00 hrs sin descuento en caso de existir algun problema, posteriormente existirá un descuento lineal hasta las 20:00 hrs del mismo día.\n",
    "* Las tareas que sean entregadas antes del jueves a mediodía recibirán una bonificación de 10 puntos.\n",
    "* Se limitará el uso de librerias a solo las que estan agregadas en el Notebook (No se permite usar sklearn)\n",
    "* Debe seguir la firma de las funciones que se indican en la tarea, en caso contrario se considerará incorrecta\n",
    "* Debe citar cualquier código ajeno utilizado (incluso si proviene de los Jupyter Notebooks del curso)."
   ]
  },
  {
   "cell_type": "markdown",
   "metadata": {
    "colab_type": "text",
    "id": "P-v8NiwRvGKt"
   },
   "source": [
    "# Introducción\n",
    "\n",
    "La compresión de Imágenes utilizando *SVD* se basa en que  la matriz $\\Sigma$ representa los valores singulares de la matriz original, entonces se puede obtener una aproximación de la imagen original minimizando el rango de la matriz al eliminar los  valores singulares de menor valor, ya que estos representan una \"menor información\" de la imagen. De este forma, por ejemplo si $\\Sigma$ es de tamaño $n\\times n$, se pueden omitir los $\\sigma$ menos significativos obteniendo $\\tilde{\\Sigma}$ de tamaño $m\\times m$, $m<n$.\n",
    "\n",
    "Por otro lado, también se puede utilizar el análisis de componentes principales (PCA) para la compresión de imágenes al reducir la dimensión de la matriz de la imagen y proyectar esas nuevas dimensiones en una nueva imagen reteniendo la información importante de la imagen original\n",
    "\n",
    "En esta tarea se busca comprimir un archivo *GIF*, el cual consiste de una secuencia de multiples imagenes, utilizando *SVD* y *PCA* para poder comparar ambos métodos y analizar la relación entre ambos."
   ]
  },
  {
   "cell_type": "code",
   "execution_count": 1,
   "metadata": {
    "colab": {},
    "colab_type": "code",
    "id": "VkDC02YMvGKu"
   },
   "outputs": [],
   "source": [
    "import numpy as np\n",
    "import matplotlib.pyplot as plt\n",
    "from PIL import Image, ImageSequence"
   ]
  },
  {
   "cell_type": "code",
   "execution_count": 2,
   "metadata": {
    "colab": {},
    "colab_type": "code",
    "id": "3_i17VbvvGK8"
   },
   "outputs": [],
   "source": [
    "def plotAnimation(animation):\n",
    "    \"\"\"\n",
    "    Parameters\n",
    "    ----------\n",
    "    animimation         : (frames, rows, cols) array\n",
    "                          GIF array\n",
    "\n",
    "    Returns\n",
    "    -------\n",
    "    Animation plots      : None\n",
    "    \"\"\"\n",
    "    for frame in animation:\n",
    "        plt.imshow(frame, cmap=plt.cm.gray)\n",
    "        plt.axis('off')\n",
    "        plt.show()"
   ]
  },
  {
   "cell_type": "code",
   "execution_count": 3,
   "metadata": {
    "colab": {},
    "colab_type": "code",
    "id": "ile_dQ-DvGLD"
   },
   "outputs": [],
   "source": [
    "def gifToArray(gif_file):\n",
    "    \"\"\"\n",
    "    Parameters\n",
    "    ----------\n",
    "    gif_file             : string\n",
    "                          GIF path\n",
    "\n",
    "    Returns\n",
    "    -------\n",
    "    data                 : (frames, rows, cols) array\n",
    "                          NumPy array with GIF pixel values\n",
    "    \"\"\"\n",
    "    im = Image.open(gif_file)\n",
    "    data = list()\n",
    "    for frame in ImageSequence.Iterator(im):\n",
    "        tmp = np.array(im.convert('L'))\n",
    "        data.append(tmp)\n",
    "    data = np.array(data)\n",
    "    return data"
   ]
  },
  {
   "cell_type": "markdown",
   "metadata": {
    "colab_type": "text",
    "id": "JMO9iKGbvGLL"
   },
   "source": [
    "\n",
    "\n",
    "Podemos considerar un *GIF* como una colección de $p$ *frames*, donde un *frame* es una martriz $F\\in\\mathbb{R}^{r\\times c}$ con $r$ el número de filas y $c$ en número de columnas de esta imagen. Ahora, si $(f_k)_{i,j}$ corresponde al elemento $i,j$ del $k$-ésimo *frame*, vamos a definir $\\mathbf{f}_{i,j}=\\langle (f_1)_{i,j}, (f_2)_{i,j},\\dots,(f_p)_{i,j}\\rangle$,\n",
    "es decir, este vector corresponde a los valores de los $p$ frames de la coordenada $(i,j)$ del *GIF*.\n",
    "\n",
    "Finalmente, para trabajar con los algoritmos, vamos a construir la matriz $G \\in \\mathbb{R}^{q\\times p}$, donde $q=r\\times c$ de cada *frame*, y que se define como:\n",
    "\n",
    "\\begin{equation}\n",
    "    G = \n",
    "    \\left[\n",
    "    \\begin{array}{c}\n",
    "        \\mathbf{f}_{1,1} \\\\ \\hline\n",
    "        \\mathbf{f}_{1,2} \\\\ \\hline\n",
    "        \\dots \\\\ \\hline\n",
    "        \\mathbf{f}_{r,c}\n",
    "    \\end{array}\n",
    "    \\right]\n",
    "\\end{equation}"
   ]
  },
  {
   "cell_type": "markdown",
   "metadata": {
    "colab_type": "text",
    "id": "c66vLEwcvGLM"
   },
   "source": [
    "----\n",
    "## Funciones a Implementar"
   ]
  },
  {
   "cell_type": "markdown",
   "metadata": {
    "colab_type": "text",
    "id": "FKGPVeK6vGLO"
   },
   "source": [
    "1. Crear la función ```createG(data)``` que recibe ```data``` el arreglo ```NumPy``` con la información del GIF, y retorna el arreglo $G$ definido anteriormente. (10 puntos)"
   ]
  },
  {
   "cell_type": "code",
   "execution_count": 4,
   "metadata": {
    "colab": {},
    "colab_type": "code",
    "id": "7KtFKZE6vGLQ"
   },
   "outputs": [],
   "source": [
    "def createG(data):\n",
    "    \"\"\"\n",
    "    Parameters\n",
    "    ----------\n",
    "    data             : (frames, rows, cols) array\n",
    "                       NumPy array with GIF pixel values\n",
    "\n",
    "    G                : (q, p) array\n",
    "                       G matrix\n",
    "    \"\"\"\n",
    "    n_frames, rows, cols = data.shape\n",
    "    G = np.reshape(data, (n_frames, rows*cols)).T\n",
    "    return G"
   ]
  },
  {
   "cell_type": "markdown",
   "metadata": {
    "colab_type": "text",
    "id": "NI6Wvv_YvGLX"
   },
   "source": [
    "2. Crear la función ```restoreGIF(data)``` que recibe los datos procesados ```data``` y ```shape``` que contiene la tupla ```(frames, rows, cols)```, la dimensión original del *GIF*. Esta función retorna la reconstrucción del GIF. (10 puntos)"
   ]
  },
  {
   "cell_type": "code",
   "execution_count": 5,
   "metadata": {
    "colab": {},
    "colab_type": "code",
    "id": "rSrx92TivGLY"
   },
   "outputs": [],
   "source": [
    "def restoreGIF(data, shape):\n",
    "    \"\"\"\n",
    "    Parameters\n",
    "    ----------\n",
    "    data             : (q, p) array\n",
    "                       G matrix\n",
    "    shape            : tuple (frames, rows, cols) \n",
    "    Returns\n",
    "    -------\n",
    "    reshaped_data    : (frames, rows, cols) array\n",
    "                       NumPy array with GIF pixel values\n",
    "                       \n",
    "    \"\"\"\n",
    "    reshaped_data = data.T.reshape(shape)\n",
    "    return reshaped_data"
   ]
  },
  {
   "cell_type": "markdown",
   "metadata": {
    "colab_type": "text",
    "id": "wBIADoJZvGLg"
   },
   "source": [
    "### SVD\n",
    "3. Implementar la función ```G_SVD(G, m)``` que reciba la matriz $G$ y los $m$ componentes que se utilizarán para comprimir el *GIF* utilizando *SVD*. La función debe retornar $U$, $\\textrm{diag}(\\Sigma)$ y $V^T$. Además, implementar la función ```SVD_G(U, s, Vt)``` que recibe las matrices generadas por el *SVD* y retorne la reconstrucción de la matriz $G$. (30 puntos)"
   ]
  },
  {
   "cell_type": "code",
   "execution_count": 6,
   "metadata": {
    "colab": {},
    "colab_type": "code",
    "id": "_s-S59b6vGLg"
   },
   "outputs": [],
   "source": [
    "# G to SVD\n",
    "def G_SVD(G, m):\n",
    "    \"\"\"\n",
    "    Parameters\n",
    "    ----------\n",
    "    G             : (q, p)-array\n",
    "                    G matrix\n",
    "    m             : int\n",
    "                    Number of components\n",
    "    Returns\n",
    "    -------\n",
    "    U             : (q, m)-array\n",
    "                    SVD U matrix\n",
    "    s             : m-array\n",
    "                    Singular values\n",
    "    Vt            : (m, p)-array\n",
    "                    SVD V^T matrix \n",
    "    \"\"\"\n",
    "    # Apply SVD\n",
    "    U, s, Vt = np.linalg.svd(G, full_matrices=False)\n",
    "    return U[:, :m], s[:m], Vt[:m, :]\n",
    "\n",
    "# SVD to 'compressed' G\n",
    "def SVD_G(U, s, Vt):\n",
    "    \"\"\"\n",
    "    Parameters\n",
    "    ----------\n",
    "    U             : (q, m)-array\n",
    "                    SVD U matrix\n",
    "    s             : m-array\n",
    "                    Singular values\n",
    "    Vt            : (m, q)-array\n",
    "                    SVD V^T matrix \n",
    "    Returns\n",
    "    -------\n",
    "    B             : (p, q)-array\n",
    "                    \"Compressed\" G\n",
    "    \"\"\"\n",
    "    rows, cols = U.shape\n",
    "    s = np.vstack((np.diag(s), np.zeros((rows - s.shape[0], s.shape[0]))))\n",
    "    return U @ s @ Vt"
   ]
  },
  {
   "cell_type": "markdown",
   "metadata": {
    "colab_type": "text",
    "id": "8sMOpP2xvGLs"
   },
   "source": [
    "### PCA\n",
    "4. Implementar la función ```G_PCA(G, m)``` que reciba la matriz $G$ y los $m$ componentes que se utilizarán para comprimir el *GIF* utilizando *PCA*. La función debe retornar $PC$, $Y$ y $\\mu$. Además, implementar la función ```PCA_G(PC, Y, mu)``` que recibe las matrices generadas por *PCA* y retorne la reconstrucción de la matriz $G$. Para esto debe utilizar la funcion de SVD implementada en el punto anterior. (35 puntos)"
   ]
  },
  {
   "cell_type": "code",
   "execution_count": 7,
   "metadata": {
    "colab": {},
    "colab_type": "code",
    "id": "9HCshfMDvGLt"
   },
   "outputs": [],
   "source": [
    "def G_PCA(G, m):\n",
    "    \"\"\"\n",
    "    Parameters\n",
    "    ----------\n",
    "    G             : (q, p)-array\n",
    "                    G matrix\n",
    "    m             : int\n",
    "                    Number of components\n",
    "    Returns\n",
    "    -------\n",
    "    PC             : (p, m)-array\n",
    "                     first m principal components\n",
    "    Y             : (q,m)-array\n",
    "                    PC Scores \n",
    "    mu           : (p)-array\n",
    "                    Average per column \n",
    "    \"\"\"\n",
    "    mu = np.mean(G, axis=0)\n",
    "    Z = G - mu\n",
    "    U, s, Vt = G_SVD(Z, m)\n",
    "    PC = Vt.T\n",
    "    Y = Z @ PC\n",
    "    return  PC, Y, mu"
   ]
  },
  {
   "cell_type": "code",
   "execution_count": 8,
   "metadata": {
    "colab": {},
    "colab_type": "code",
    "id": "m05kUtkAvGL0"
   },
   "outputs": [],
   "source": [
    "def PCA_G(PC, Y, mu):\n",
    "    \"\"\"\n",
    "    Parameters\n",
    "    ----------\n",
    "    PC             : (p, m)-array\n",
    "                     first m principal components\n",
    "    Y             : (q,m)-array\n",
    "                    PC Scores \n",
    "    mu           : (p)-array\n",
    "                    Average per column \n",
    "    Returns\n",
    "    -------\n",
    "    B            : (q, p)-array\n",
    "                    \"Compressed\" G\n",
    "    \"\"\"\n",
    "    Z = Y @ PC.T\n",
    "    B = Z + mu\n",
    "    return B"
   ]
  },
  {
   "cell_type": "markdown",
   "metadata": {
    "colab_type": "text",
    "id": "WXU6uYie6Nq0"
   },
   "source": [
    "## Preguntas\n",
    "\n",
    "Para responder las siguientes preguntas, debe implementar las funciones propuestas"
   ]
  },
  {
   "cell_type": "markdown",
   "metadata": {
    "colab_type": "text",
    "id": "5RmHo48BvGM2"
   },
   "source": [
    "#### 1. ¿Cuál sería el costo de almacenamiento en MB usando $m$ vectores singulares? (5 puntos)"
   ]
  },
  {
   "cell_type": "code",
   "execution_count": 9,
   "metadata": {
    "colab": {},
    "colab_type": "code",
    "id": "e7y73fYtvGM2"
   },
   "outputs": [],
   "source": [
    "def SVD_size(G, m):\n",
    "    \"\"\"\n",
    "    Parameters\n",
    "    ----------\n",
    "    G             : (q, p)-array\n",
    "                    G matrix\n",
    "    m             : int\n",
    "                    Number of components\n",
    "    Returns\n",
    "    -------\n",
    "    size          : Float\n",
    "                    total size of SVD return\n",
    "    \"\"\"\n",
    "    return size\n",
    "\n",
    "def PCA_size(G, m):\n",
    "    \"\"\"\n",
    "    Parameters\n",
    "    ----------\n",
    "    G             : (q, p)-array\n",
    "                    G matrix\n",
    "    m             : int\n",
    "                    Number of components\n",
    "    Returns\n",
    "    -------\n",
    "    size          : Float\n",
    "                    total size of PCA return\n",
    "    \"\"\"\n",
    "    return size"
   ]
  },
  {
   "cell_type": "markdown",
   "metadata": {
    "colab_type": "text",
    "id": "klJlLp9svGM6"
   },
   "source": [
    "#### 2. ¿Cuál sería el *gif* resultante con $m$ componentes? (5 puntos)"
   ]
  },
  {
   "cell_type": "code",
   "execution_count": 10,
   "metadata": {
    "colab": {},
    "colab_type": "code",
    "id": "NfS25SORvGM7"
   },
   "outputs": [],
   "source": [
    "def print_animation_SVD(G, m, shape):\n",
    "    \"\"\"\n",
    "    Parameters\n",
    "    ----------\n",
    "    G             : (q, p)-array\n",
    "                    G matrix\n",
    "    m             : int\n",
    "                    Number of components\n",
    "    Returns\n",
    "    -------\n",
    "    La funcion no debe retornar nada, solo mostrar las imagenes de los frames reconstruidos\n",
    "    \"\"\"\n",
    "    result = PCA_G(*G_PCA(G, m))\n",
    "    restoreGif(result, shape)\n",
    "    return\n",
    "\n",
    "def print_animation_PCA(G, m):\n",
    "    \"\"\"\n",
    "    Parameters\n",
    "    ----------\n",
    "    G             : (q, p)-array\n",
    "                    G matrix\n",
    "    m             : int\n",
    "                    Number of components\n",
    "    Returns\n",
    "    -------\n",
    "    La funcion no debe retornar nada, solo mostrar las imagenes de los frames reconstruidos\n",
    "    \"\"\"\n",
    "    return\n"
   ]
  },
  {
   "cell_type": "code",
   "execution_count": 14,
   "metadata": {},
   "outputs": [
    {
     "ename": "ValueError",
     "evalue": "On entry to DLASCL parameter number 4 had an illegal value",
     "output_type": "error",
     "traceback": [
      "\u001b[0;31m---------------------------------------------------------------------------\u001b[0m",
      "\u001b[0;31mValueError\u001b[0m                                Traceback (most recent call last)",
      "\u001b[0;32m<ipython-input-14-1c54265d884b>\u001b[0m in \u001b[0;36m<module>\u001b[0;34m\u001b[0m\n\u001b[1;32m      2\u001b[0m \u001b[0mshape\u001b[0m \u001b[0;34m=\u001b[0m \u001b[0ma\u001b[0m\u001b[0;34m.\u001b[0m\u001b[0mshape\u001b[0m\u001b[0;34m\u001b[0m\u001b[0;34m\u001b[0m\u001b[0m\n\u001b[1;32m      3\u001b[0m \u001b[0mG\u001b[0m \u001b[0;34m=\u001b[0m \u001b[0mcreateG\u001b[0m\u001b[0;34m(\u001b[0m\u001b[0ma\u001b[0m\u001b[0;34m)\u001b[0m\u001b[0;34m\u001b[0m\u001b[0;34m\u001b[0m\u001b[0m\n\u001b[0;32m----> 4\u001b[0;31m \u001b[0mprint_animation_SVD\u001b[0m\u001b[0;34m(\u001b[0m\u001b[0mG\u001b[0m\u001b[0;34m,\u001b[0m \u001b[0;36m100\u001b[0m\u001b[0;34m,\u001b[0m \u001b[0mshape\u001b[0m\u001b[0;34m)\u001b[0m\u001b[0;34m\u001b[0m\u001b[0;34m\u001b[0m\u001b[0m\n\u001b[0m\u001b[1;32m      5\u001b[0m \u001b[0;31m# G\u001b[0m\u001b[0;34m\u001b[0m\u001b[0;34m\u001b[0m\u001b[0;34m\u001b[0m\u001b[0m\n\u001b[1;32m      6\u001b[0m \u001b[0;31m# G.shape\u001b[0m\u001b[0;34m\u001b[0m\u001b[0;34m\u001b[0m\u001b[0;34m\u001b[0m\u001b[0m\n",
      "\u001b[0;32m<ipython-input-12-ebb237d7524a>\u001b[0m in \u001b[0;36mprint_animation_SVD\u001b[0;34m(G, m, shape)\u001b[0m\n\u001b[1;32m     11\u001b[0m     \u001b[0mLa\u001b[0m \u001b[0mfuncion\u001b[0m \u001b[0mno\u001b[0m \u001b[0mdebe\u001b[0m \u001b[0mretornar\u001b[0m \u001b[0mnada\u001b[0m\u001b[0;34m,\u001b[0m \u001b[0msolo\u001b[0m \u001b[0mmostrar\u001b[0m \u001b[0mlas\u001b[0m \u001b[0mimagenes\u001b[0m \u001b[0mde\u001b[0m \u001b[0mlos\u001b[0m \u001b[0mframes\u001b[0m \u001b[0mreconstruidos\u001b[0m\u001b[0;34m\u001b[0m\u001b[0;34m\u001b[0m\u001b[0m\n\u001b[1;32m     12\u001b[0m     \"\"\"\n\u001b[0;32m---> 13\u001b[0;31m     \u001b[0mresult\u001b[0m \u001b[0;34m=\u001b[0m \u001b[0mPCA_G\u001b[0m\u001b[0;34m(\u001b[0m\u001b[0;34m*\u001b[0m\u001b[0mG_PCA\u001b[0m\u001b[0;34m(\u001b[0m\u001b[0mG\u001b[0m\u001b[0;34m,\u001b[0m \u001b[0mm\u001b[0m\u001b[0;34m)\u001b[0m\u001b[0;34m)\u001b[0m\u001b[0;34m\u001b[0m\u001b[0;34m\u001b[0m\u001b[0m\n\u001b[0m\u001b[1;32m     14\u001b[0m     \u001b[0mrestoreGif\u001b[0m\u001b[0;34m(\u001b[0m\u001b[0mresult\u001b[0m\u001b[0;34m,\u001b[0m \u001b[0mshape\u001b[0m\u001b[0;34m)\u001b[0m\u001b[0;34m\u001b[0m\u001b[0;34m\u001b[0m\u001b[0m\n\u001b[1;32m     15\u001b[0m     \u001b[0;32mreturn\u001b[0m\u001b[0;34m\u001b[0m\u001b[0;34m\u001b[0m\u001b[0m\n",
      "\u001b[0;32m<ipython-input-7-31fc77c04f26>\u001b[0m in \u001b[0;36mG_PCA\u001b[0;34m(G, m)\u001b[0m\n\u001b[1;32m     18\u001b[0m     \u001b[0mmu\u001b[0m \u001b[0;34m=\u001b[0m \u001b[0mnp\u001b[0m\u001b[0;34m.\u001b[0m\u001b[0mmean\u001b[0m\u001b[0;34m(\u001b[0m\u001b[0mG\u001b[0m\u001b[0;34m,\u001b[0m \u001b[0maxis\u001b[0m\u001b[0;34m=\u001b[0m\u001b[0;36m0\u001b[0m\u001b[0;34m)\u001b[0m\u001b[0;34m\u001b[0m\u001b[0;34m\u001b[0m\u001b[0m\n\u001b[1;32m     19\u001b[0m     \u001b[0mZ\u001b[0m \u001b[0;34m=\u001b[0m \u001b[0mG\u001b[0m \u001b[0;34m-\u001b[0m \u001b[0mmu\u001b[0m\u001b[0;34m\u001b[0m\u001b[0;34m\u001b[0m\u001b[0m\n\u001b[0;32m---> 20\u001b[0;31m     \u001b[0mU\u001b[0m\u001b[0;34m,\u001b[0m \u001b[0ms\u001b[0m\u001b[0;34m,\u001b[0m \u001b[0mVt\u001b[0m \u001b[0;34m=\u001b[0m \u001b[0mG_SVD\u001b[0m\u001b[0;34m(\u001b[0m\u001b[0mZ\u001b[0m\u001b[0;34m,\u001b[0m \u001b[0mm\u001b[0m\u001b[0;34m)\u001b[0m\u001b[0;34m\u001b[0m\u001b[0;34m\u001b[0m\u001b[0m\n\u001b[0m\u001b[1;32m     21\u001b[0m     \u001b[0mPC\u001b[0m \u001b[0;34m=\u001b[0m \u001b[0mVt\u001b[0m\u001b[0;34m.\u001b[0m\u001b[0mT\u001b[0m\u001b[0;34m\u001b[0m\u001b[0;34m\u001b[0m\u001b[0m\n\u001b[1;32m     22\u001b[0m     \u001b[0mY\u001b[0m \u001b[0;34m=\u001b[0m \u001b[0mZ\u001b[0m \u001b[0;34m@\u001b[0m \u001b[0mPC\u001b[0m\u001b[0;34m\u001b[0m\u001b[0;34m\u001b[0m\u001b[0m\n",
      "\u001b[0;32m<ipython-input-6-3a8abb64cc50>\u001b[0m in \u001b[0;36mG_SVD\u001b[0;34m(G, m)\u001b[0m\n\u001b[1;32m     18\u001b[0m     \"\"\"\n\u001b[1;32m     19\u001b[0m     \u001b[0;31m# Apply SVD\u001b[0m\u001b[0;34m\u001b[0m\u001b[0;34m\u001b[0m\u001b[0;34m\u001b[0m\u001b[0m\n\u001b[0;32m---> 20\u001b[0;31m     \u001b[0mU\u001b[0m\u001b[0;34m,\u001b[0m \u001b[0ms\u001b[0m\u001b[0;34m,\u001b[0m \u001b[0mVt\u001b[0m \u001b[0;34m=\u001b[0m \u001b[0mnp\u001b[0m\u001b[0;34m.\u001b[0m\u001b[0mlinalg\u001b[0m\u001b[0;34m.\u001b[0m\u001b[0msvd\u001b[0m\u001b[0;34m(\u001b[0m\u001b[0mG\u001b[0m\u001b[0;34m,\u001b[0m \u001b[0mfull_matrices\u001b[0m\u001b[0;34m=\u001b[0m\u001b[0;32mFalse\u001b[0m\u001b[0;34m)\u001b[0m\u001b[0;34m\u001b[0m\u001b[0;34m\u001b[0m\u001b[0m\n\u001b[0m\u001b[1;32m     21\u001b[0m     \u001b[0;32mreturn\u001b[0m \u001b[0mU\u001b[0m\u001b[0;34m[\u001b[0m\u001b[0;34m:\u001b[0m\u001b[0;34m,\u001b[0m \u001b[0;34m:\u001b[0m\u001b[0mm\u001b[0m\u001b[0;34m]\u001b[0m\u001b[0;34m,\u001b[0m \u001b[0ms\u001b[0m\u001b[0;34m[\u001b[0m\u001b[0;34m:\u001b[0m\u001b[0mm\u001b[0m\u001b[0;34m]\u001b[0m\u001b[0;34m,\u001b[0m \u001b[0mVt\u001b[0m\u001b[0;34m[\u001b[0m\u001b[0;34m:\u001b[0m\u001b[0mm\u001b[0m\u001b[0;34m,\u001b[0m \u001b[0;34m:\u001b[0m\u001b[0;34m]\u001b[0m\u001b[0;34m\u001b[0m\u001b[0;34m\u001b[0m\u001b[0m\n\u001b[1;32m     22\u001b[0m \u001b[0;34m\u001b[0m\u001b[0m\n",
      "\u001b[0;32m<__array_function__ internals>\u001b[0m in \u001b[0;36msvd\u001b[0;34m(*args, **kwargs)\u001b[0m\n",
      "\u001b[0;32m~/miniconda3/envs/mat281/lib/python3.7/site-packages/numpy/linalg/linalg.py\u001b[0m in \u001b[0;36msvd\u001b[0;34m(a, full_matrices, compute_uv, hermitian)\u001b[0m\n\u001b[1;32m   1634\u001b[0m \u001b[0;34m\u001b[0m\u001b[0m\n\u001b[1;32m   1635\u001b[0m         \u001b[0msignature\u001b[0m \u001b[0;34m=\u001b[0m \u001b[0;34m'D->DdD'\u001b[0m \u001b[0;32mif\u001b[0m \u001b[0misComplexType\u001b[0m\u001b[0;34m(\u001b[0m\u001b[0mt\u001b[0m\u001b[0;34m)\u001b[0m \u001b[0;32melse\u001b[0m \u001b[0;34m'd->ddd'\u001b[0m\u001b[0;34m\u001b[0m\u001b[0;34m\u001b[0m\u001b[0m\n\u001b[0;32m-> 1636\u001b[0;31m         \u001b[0mu\u001b[0m\u001b[0;34m,\u001b[0m \u001b[0ms\u001b[0m\u001b[0;34m,\u001b[0m \u001b[0mvh\u001b[0m \u001b[0;34m=\u001b[0m \u001b[0mgufunc\u001b[0m\u001b[0;34m(\u001b[0m\u001b[0ma\u001b[0m\u001b[0;34m,\u001b[0m \u001b[0msignature\u001b[0m\u001b[0;34m=\u001b[0m\u001b[0msignature\u001b[0m\u001b[0;34m,\u001b[0m \u001b[0mextobj\u001b[0m\u001b[0;34m=\u001b[0m\u001b[0mextobj\u001b[0m\u001b[0;34m)\u001b[0m\u001b[0;34m\u001b[0m\u001b[0;34m\u001b[0m\u001b[0m\n\u001b[0m\u001b[1;32m   1637\u001b[0m         \u001b[0mu\u001b[0m \u001b[0;34m=\u001b[0m \u001b[0mu\u001b[0m\u001b[0;34m.\u001b[0m\u001b[0mastype\u001b[0m\u001b[0;34m(\u001b[0m\u001b[0mresult_t\u001b[0m\u001b[0;34m,\u001b[0m \u001b[0mcopy\u001b[0m\u001b[0;34m=\u001b[0m\u001b[0;32mFalse\u001b[0m\u001b[0;34m)\u001b[0m\u001b[0;34m\u001b[0m\u001b[0;34m\u001b[0m\u001b[0m\n\u001b[1;32m   1638\u001b[0m         \u001b[0ms\u001b[0m \u001b[0;34m=\u001b[0m \u001b[0ms\u001b[0m\u001b[0;34m.\u001b[0m\u001b[0mastype\u001b[0m\u001b[0;34m(\u001b[0m\u001b[0m_realType\u001b[0m\u001b[0;34m(\u001b[0m\u001b[0mresult_t\u001b[0m\u001b[0;34m)\u001b[0m\u001b[0;34m,\u001b[0m \u001b[0mcopy\u001b[0m\u001b[0;34m=\u001b[0m\u001b[0;32mFalse\u001b[0m\u001b[0;34m)\u001b[0m\u001b[0;34m\u001b[0m\u001b[0;34m\u001b[0m\u001b[0m\n",
      "\u001b[0;31mValueError\u001b[0m: On entry to DLASCL parameter number 4 had an illegal value"
     ]
    }
   ],
   "source": [
    "a = gifToArray('./somebody.gif')\n",
    "shape = a.shape\n",
    "G = createG(a) \n",
    "np.linalg.svd(G, full_matrices=False)\n",
    "#print_animation_SVD(G, 100, shape)\n",
    "# G\n",
    "# G.shape\n",
    "#np.linalg.svd(G)\n",
    "#G_SVD(G, 10)\n",
    "#G = createG(a).astype(int)\n",
    "#G.shape\n"
   ]
  },
  {
   "cell_type": "markdown",
   "metadata": {
    "colab_type": "text",
    "id": "hAYGfX8TvGNO"
   },
   "source": [
    "#### 3. ¿Cual sería el error en función de $m$? (Calcule el error utilizando la norma-2) (5 puntos)\n",
    "\n",
    "Considere calcular el error de la siguiente manera: $||G-B_m||_2$, donde $G$ corresponde a la matriz definida anteriormente y $B_m$ a la matriz \"comprimida\" utilizando los métodos correspondientes para un $m$ particular."
   ]
  },
  {
   "cell_type": "code",
   "execution_count": null,
   "metadata": {
    "colab": {},
    "colab_type": "code",
    "id": "Wk65LuvdvGNP"
   },
   "outputs": [],
   "source": [
    "def compression_error_SVD(G, m):\n",
    "    \"\"\"\n",
    "    Parameters\n",
    "    ----------\n",
    "    G             : (q, p)-array\n",
    "                    G matrix\n",
    "    m             : int\n",
    "                    Number of components\n",
    "    Returns\n",
    "    -------\n",
    "    error          : Float\n",
    "                    total size of PCA return\n",
    "    \"\"\"\n",
    "    return error\n",
    "\n",
    "def compression_error_PCA(G, m):\n",
    "    \"\"\"\n",
    "    Parameters\n",
    "    ----------\n",
    "    G             : (q, p)-array\n",
    "                    G matrix\n",
    "    m             : int\n",
    "                    Number of components\n",
    "    Returns\n",
    "    -------\n",
    "    error         : Float\n",
    "                    total size of PCA return\n",
    "    \"\"\"\n",
    "    return error"
   ]
  },
  {
   "cell_type": "markdown",
   "metadata": {
    "colab_type": "text",
    "id": "OCJCcJjH8Bbs"
   },
   "source": [
    "# Prueba\n",
    "\n",
    "Para verificar sus algoritmos, pruebe las funciones desarrolladas para $m=10$."
   ]
  },
  {
   "cell_type": "markdown",
   "metadata": {
    "colab_type": "text",
    "id": "R2zh8RmEvGNT"
   },
   "source": [
    "# Referencias\n",
    "\n",
    "Si corresponde"
   ]
  }
 ],
 "metadata": {
  "colab": {
   "collapsed_sections": [],
   "name": "Tarea-2.ipynb",
   "provenance": []
  },
  "kernelspec": {
   "display_name": "Python 3",
   "language": "python",
   "name": "python3"
  },
  "language_info": {
   "codemirror_mode": {
    "name": "ipython",
    "version": 3
   },
   "file_extension": ".py",
   "mimetype": "text/x-python",
   "name": "python",
   "nbconvert_exporter": "python",
   "pygments_lexer": "ipython3",
   "version": "3.7.6"
  }
 },
 "nbformat": 4,
 "nbformat_minor": 4
}
