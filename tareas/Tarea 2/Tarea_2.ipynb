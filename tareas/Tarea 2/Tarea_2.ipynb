{
 "cells": [
  {
   "cell_type": "markdown",
   "metadata": {
    "colab_type": "text",
    "id": "pVd0tF-m0Jb2"
   },
   "source": [
    "## INF-285 \n",
    "#Tarea 2: SVD y PCA"
   ]
  },
  {
   "cell_type": "markdown",
   "metadata": {
    "colab_type": "text",
    "id": "JghL-XhvvGKq"
   },
   "source": [
    "# Instrucciones\n",
    "* La tarea es individual.\n",
    "* Las consultas sobre las tareas se deben realizar por medio de la plataforma Aula.\n",
    "* La tarea debe ser realizada en Jupyter Notebook (Python 3).\n",
    "* Se evaluará la correcta utilización de librerias ```NumPy```, ```SciPy```, entre otras, así como la correcta implementación de algoritmos de forma vectorizada.\n",
    "* El archivo de entrega debe denominarse **ROL-tarea-numero.ipynb**. De no respetarse este formato existirá un descuento de 50 puntos\n",
    "* La fecha de entrega es el viernes 29 de Mayo a las 18:00 hrs. Se aceptarán entregas hasta las 19:00 hrs sin descuento en caso de existir algun problema, posteriormente existirá un descuento lineal hasta las 20:00 hrs del mismo día.\n",
    "* Las tareas que sean entregadas antes del jueves a mediodía recibirán una bonificación de 10 puntos.\n",
    "* Se limitará el uso de librerias a solo las que estan agregadas en el Notebook (No se permite usar sklearn)\n",
    "* Debe seguir la firma de las funciones que se indican en la tarea, en caso contrario se considerará incorrecta\n",
    "* Debe citar cualquier código ajeno utilizado (incluso si proviene de los Jupyter Notebooks del curso)."
   ]
  },
  {
   "cell_type": "markdown",
   "metadata": {
    "colab_type": "text",
    "id": "P-v8NiwRvGKt"
   },
   "source": [
    "# Introducción\n",
    "\n",
    "La compresión de Imágenes utilizando *SVD* se basa en que  la matriz $\\Sigma$ representa los valores singulares de la matriz original, entonces se puede obtener una aproximación de la imagen original minimizando el rango de la matriz al eliminar los  valores singulares de menor valor, ya que estos representan una \"menor información\" de la imagen. De este forma, por ejemplo si $\\Sigma$ es de tamaño $n\\times n$, se pueden omitir los $\\sigma$ menos significativos obteniendo $\\tilde{\\Sigma}$ de tamaño $m\\times m$, $m<n$.\n",
    "\n",
    "Por otro lado, también se puede utilizar el análisis de componentes principales (PCA) para la compresión de imágenes al reducir la dimensión de la matriz de la imagen y proyectar esas nuevas dimensiones en una nueva imagen reteniendo la información importante de la imagen original\n",
    "\n",
    "En esta tarea se busca comprimir un archivo *GIF*, el cual consiste de una secuencia de multiples imagenes, utilizando *SVD* y *PCA* para poder comparar ambos métodos y analizar la relación entre ambos."
   ]
  },
  {
   "cell_type": "code",
   "execution_count": 1,
   "metadata": {
    "colab": {},
    "colab_type": "code",
    "id": "VkDC02YMvGKu"
   },
   "outputs": [],
   "source": [
    "import numpy as np\n",
    "import matplotlib.pyplot as plt\n",
    "from PIL import Image, ImageSequence"
   ]
  },
  {
   "cell_type": "code",
   "execution_count": 2,
   "metadata": {
    "colab": {},
    "colab_type": "code",
    "id": "3_i17VbvvGK8"
   },
   "outputs": [],
   "source": [
    "def plotAnimation(animation):\n",
    "    \"\"\"\n",
    "    Parameters\n",
    "    ----------\n",
    "    animimation         : (frames, rows, cols) array\n",
    "                          GIF array\n",
    "\n",
    "    Returns\n",
    "    -------\n",
    "    Animation plots      : None\n",
    "    \"\"\"\n",
    "    for frame in animation:\n",
    "        plt.imshow(frame, cmap=plt.cm.gray)\n",
    "        plt.axis('off')\n",
    "        plt.show()"
   ]
  },
  {
   "cell_type": "code",
   "execution_count": 3,
   "metadata": {
    "colab": {},
    "colab_type": "code",
    "id": "ile_dQ-DvGLD"
   },
   "outputs": [],
   "source": [
    "def gifToArray(gif_file):\n",
    "    \"\"\"\n",
    "    Parameters\n",
    "    ----------\n",
    "    gif_file             : string\n",
    "                          GIF path\n",
    "\n",
    "    Returns\n",
    "    -------\n",
    "    data                 : (frames, rows, cols) array\n",
    "                          NumPy array with GIF pixel values\n",
    "    \"\"\"\n",
    "    im = Image.open(gif_file)\n",
    "    data = list()\n",
    "    for frame in ImageSequence.Iterator(im):\n",
    "        tmp = np.array(im.convert('L'))\n",
    "        data.append(tmp)\n",
    "    data = np.array(data)\n",
    "    return data"
   ]
  },
  {
   "cell_type": "markdown",
   "metadata": {
    "colab_type": "text",
    "id": "JMO9iKGbvGLL"
   },
   "source": [
    "\n",
    "\n",
    "Podemos considerar un *GIF* como una colección de $p$ *frames*, donde un *frame* es una martriz $F\\in\\mathbb{R}^{r\\times c}$ con $r$ el número de filas y $c$ en número de columnas de esta imagen. Ahora, si $(f_k)_{i,j}$ corresponde al elemento $i,j$ del $k$-ésimo *frame*, vamos a definir $\\mathbf{f}_{i,j}=\\langle (f_1)_{i,j}, (f_2)_{i,j},\\dots,(f_p)_{i,j}\\rangle$,\n",
    "es decir, este vector corresponde a los valores de los $p$ frames de la coordenada $(i,j)$ del *GIF*.\n",
    "\n",
    "Finalmente, para trabajar con los algoritmos, vamos a construir la matriz $G \\in \\mathbb{R}^{q\\times p}$, donde $q=r\\times c$ de cada *frame*, y que se define como:\n",
    "\n",
    "\\begin{equation}\n",
    "    G = \n",
    "    \\left[\n",
    "    \\begin{array}{c}\n",
    "        \\mathbf{f}_{1,1} \\\\ \\hline\n",
    "        \\mathbf{f}_{1,2} \\\\ \\hline\n",
    "        \\dots \\\\ \\hline\n",
    "        \\mathbf{f}_{r,c}\n",
    "    \\end{array}\n",
    "    \\right]\n",
    "\\end{equation}"
   ]
  },
  {
   "cell_type": "markdown",
   "metadata": {
    "colab_type": "text",
    "id": "c66vLEwcvGLM"
   },
   "source": [
    "----\n",
    "## Funciones a Implementar"
   ]
  },
  {
   "cell_type": "markdown",
   "metadata": {
    "colab_type": "text",
    "id": "FKGPVeK6vGLO"
   },
   "source": [
    "1. Crear la función ```createG(data)``` que recibe ```data``` el arreglo ```NumPy``` con la información del GIF, y retorna el arreglo $G$ definido anteriormente. (10 puntos)"
   ]
  },
  {
   "cell_type": "code",
   "execution_count": 4,
   "metadata": {
    "colab": {},
    "colab_type": "code",
    "id": "7KtFKZE6vGLQ"
   },
   "outputs": [],
   "source": [
    "def createG(data):\n",
    "    \"\"\"\n",
    "    Parameters\n",
    "    ----------\n",
    "    data             : (frames, rows, cols) array\n",
    "                       NumPy array with GIF pixel values\n",
    "\n",
    "    G                : (q, p) array\n",
    "                       G matrix\n",
    "    \"\"\"\n",
    "    n_frames, rows, cols = data.shape\n",
    "    G = np.reshape(data, (n_frames, rows*cols)).T\n",
    "    return G"
   ]
  },
  {
   "cell_type": "markdown",
   "metadata": {
    "colab_type": "text",
    "id": "NI6Wvv_YvGLX"
   },
   "source": [
    "2. Crear la función ```restoreGIF(data)``` que recibe los datos procesados ```data``` y ```shape``` que contiene la tupla ```(frames, rows, cols)```, la dimensión original del *GIF*. Esta función retorna la reconstrucción del GIF. (10 puntos)"
   ]
  },
  {
   "cell_type": "code",
   "execution_count": 5,
   "metadata": {
    "colab": {},
    "colab_type": "code",
    "id": "rSrx92TivGLY"
   },
   "outputs": [],
   "source": [
    "def restoreGIF(data, shape):\n",
    "    \"\"\"\n",
    "    Parameters\n",
    "    ----------\n",
    "    data             : (q, p) array\n",
    "                       G matrix\n",
    "    shape            : tuple (frames, rows, cols) \n",
    "    Returns\n",
    "    -------\n",
    "    reshaped_data    : (frames, rows, cols) array\n",
    "                       NumPy array with GIF pixel values\n",
    "                       \n",
    "    \"\"\"\n",
    "    reshaped_data = data.T.reshape(shape)\n",
    "    return reshaped_data"
   ]
  },
  {
   "cell_type": "markdown",
   "metadata": {
    "colab_type": "text",
    "id": "wBIADoJZvGLg"
   },
   "source": [
    "### SVD\n",
    "3. Implementar la función ```G_SVD(G, m)``` que reciba la matriz $G$ y los $m$ componentes que se utilizarán para comprimir el *GIF* utilizando *SVD*. La función debe retornar $U$, $\\textrm{diag}(\\Sigma)$ y $V^T$. Además, implementar la función ```SVD_G(U, s, Vt)``` que recibe las matrices generadas por el *SVD* y retorne la reconstrucción de la matriz $G$. (30 puntos)"
   ]
  },
  {
   "cell_type": "code",
   "execution_count": 6,
   "metadata": {
    "colab": {},
    "colab_type": "code",
    "id": "_s-S59b6vGLg"
   },
   "outputs": [],
   "source": [
    "# G to SVD\n",
    "def G_SVD(G, m):\n",
    "    \"\"\"\n",
    "    Parameters\n",
    "    ----------\n",
    "    G             : (q, p)-array\n",
    "                    G matrix\n",
    "    m             : int\n",
    "                    Number of components\n",
    "    Returns\n",
    "    -------\n",
    "    U             : (q, m)-array\n",
    "                    SVD U matrix\n",
    "    s             : m-array\n",
    "                    Singular values\n",
    "    Vt            : (m, p)-array\n",
    "                    SVD V^T matrix \n",
    "    \"\"\"\n",
    "    # Apply SVD\n",
    "    U, s, Vt = np.linalg.svd(G, full_matrices=False)\n",
    "    return U[:, :m], s[:m], Vt[:m, :]\n",
    "\n",
    "# SVD to 'compressed' G\n",
    "def SVD_G(U, s, Vt):\n",
    "    \"\"\"\n",
    "    Parameters\n",
    "    ----------\n",
    "    U             : (q, m)-array\n",
    "                    SVD U matrix\n",
    "    s             : m-array\n",
    "                    Singular values\n",
    "    Vt            : (m, q)-array\n",
    "                    SVD V^T matrix \n",
    "    Returns\n",
    "    -------\n",
    "    B             : (p, q)-array\n",
    "                    \"Compressed\" G\n",
    "    \"\"\"\n",
    "    rows, cols = U.shape\n",
    "    s = np.vstack((np.diag(s), np.zeros((rows - s.shape[0], s.shape[0]))))\n",
    "    return U @ s @ Vt"
   ]
  },
  {
   "cell_type": "markdown",
   "metadata": {
    "colab_type": "text",
    "id": "8sMOpP2xvGLs"
   },
   "source": [
    "### PCA\n",
    "4. Implementar la función ```G_PCA(G, m)``` que reciba la matriz $G$ y los $m$ componentes que se utilizarán para comprimir el *GIF* utilizando *PCA*. La función debe retornar $PC$, $Y$ y $\\mu$. Además, implementar la función ```PCA_G(PC, Y, mu)``` que recibe las matrices generadas por *PCA* y retorne la reconstrucción de la matriz $G$. Para esto debe utilizar la funcion de SVD implementada en el punto anterior. (35 puntos)"
   ]
  },
  {
   "cell_type": "code",
   "execution_count": 7,
   "metadata": {
    "colab": {},
    "colab_type": "code",
    "id": "9HCshfMDvGLt"
   },
   "outputs": [],
   "source": [
    "def G_PCA(G, m):\n",
    "    \"\"\"\n",
    "    Parameters\n",
    "    ----------\n",
    "    G             : (q, p)-array\n",
    "                    G matrix\n",
    "    m             : int\n",
    "                    Number of components\n",
    "    Returns\n",
    "    -------\n",
    "    PC             : (p, m)-array\n",
    "                     first m principal components\n",
    "    Y             : (q,m)-array\n",
    "                    PC Scores \n",
    "    mu           : (p)-array\n",
    "                    Average per column \n",
    "    \"\"\"\n",
    "    mu = np.mean(G, axis=0)\n",
    "    Z = G - mu\n",
    "    U, s, Vt = G_SVD(Z, m)\n",
    "    PC = Vt.T\n",
    "    Y = Z @ PC\n",
    "    return  PC, Y, mu"
   ]
  },
  {
   "cell_type": "code",
   "execution_count": 8,
   "metadata": {
    "colab": {},
    "colab_type": "code",
    "id": "m05kUtkAvGL0"
   },
   "outputs": [],
   "source": [
    "def PCA_G(PC, Y, mu):\n",
    "    \"\"\"\n",
    "    Parameters\n",
    "    ----------\n",
    "    PC             : (p, m)-array\n",
    "                     first m principal components\n",
    "    Y             : (q,m)-array\n",
    "                    PC Scores \n",
    "    mu           : (p)-array\n",
    "                    Average per column \n",
    "    Returns\n",
    "    -------\n",
    "    B            : (q, p)-array\n",
    "                    \"Compressed\" G\n",
    "    \"\"\"\n",
    "    Z = Y @ PC.T\n",
    "    B = Z + mu\n",
    "    return B"
   ]
  },
  {
   "cell_type": "markdown",
   "metadata": {
    "colab_type": "text",
    "id": "WXU6uYie6Nq0"
   },
   "source": [
    "## Preguntas\n",
    "\n",
    "Para responder las siguientes preguntas, debe implementar las funciones propuestas"
   ]
  },
  {
   "cell_type": "markdown",
   "metadata": {
    "colab_type": "text",
    "id": "5RmHo48BvGM2"
   },
   "source": [
    "#### 1. ¿Cuál sería el costo de almacenamiento en MB usando $m$ vectores singulares? (5 puntos)"
   ]
  },
  {
   "cell_type": "code",
   "execution_count": 9,
   "metadata": {
    "colab": {},
    "colab_type": "code",
    "id": "e7y73fYtvGM2"
   },
   "outputs": [],
   "source": [
    "def SVD_size(G, m):\n",
    "    \"\"\"\n",
    "    Parameters\n",
    "    ----------\n",
    "    G             : (q, p)-array\n",
    "                    G matrix\n",
    "    m             : int\n",
    "                    Number of components\n",
    "    Returns\n",
    "    -------\n",
    "    size          : Float\n",
    "                    total size of SVD return\n",
    "    \"\"\"\n",
    "    return size\n",
    "\n",
    "def PCA_size(G, m):\n",
    "    \"\"\"\n",
    "    Parameters\n",
    "    ----------\n",
    "    G             : (q, p)-array\n",
    "                    G matrix\n",
    "    m             : int\n",
    "                    Number of components\n",
    "    Returns\n",
    "    -------\n",
    "    size          : Float\n",
    "                    total size of PCA return\n",
    "    \"\"\"\n",
    "    return size"
   ]
  },
  {
   "cell_type": "markdown",
   "metadata": {
    "colab_type": "text",
    "id": "klJlLp9svGM6"
   },
   "source": [
    "#### 2. ¿Cuál sería el *gif* resultante con $m$ componentes? (5 puntos)"
   ]
  },
  {
   "cell_type": "code",
   "execution_count": 10,
   "metadata": {
    "colab": {},
    "colab_type": "code",
    "id": "NfS25SORvGM7"
   },
   "outputs": [],
   "source": [
    "def print_animation_SVD(G, m, shape):\n",
    "    \"\"\"\n",
    "    Parameters\n",
    "    ----------\n",
    "    G             : (q, p)-array\n",
    "                    G matrix\n",
    "    m             : int\n",
    "                    Number of components\n",
    "    Returns\n",
    "    -------\n",
    "    La funcion no debe retornar nada, solo mostrar las imagenes de los frames reconstruidos\n",
    "    \"\"\"\n",
    "    result = PCA_G(*G_PCA(G, m))\n",
    "    restoreGif(result, shape)\n",
    "    return\n",
    "\n",
    "def print_animation_PCA(G, m):\n",
    "    \"\"\"\n",
    "    Parameters\n",
    "    ----------\n",
    "    G             : (q, p)-array\n",
    "                    G matrix\n",
    "    m             : int\n",
    "                    Number of components\n",
    "    Returns\n",
    "    -------\n",
    "    La funcion no debe retornar nada, solo mostrar las imagenes de los frames reconstruidos\n",
    "    \"\"\"\n",
    "    return\n"
   ]
  },
  {
   "cell_type": "code",
   "execution_count": 21,
   "metadata": {},
   "outputs": [
    {
     "data": {
      "text/plain": [
       "(array([[-3.06024488e-05, -3.44876349e-06,  3.93329091e-04, ...,\n",
       "          8.30323926e-06,  8.81479468e-06,  5.56782746e-05],\n",
       "        [-1.05463661e-04,  2.09565130e-04,  2.07356086e-05, ...,\n",
       "          1.23724521e-05, -3.19276789e-05,  1.54354842e-05],\n",
       "        [-8.89566650e-04, -3.09448504e-04, -1.34766599e-04, ...,\n",
       "         -8.20293914e-06, -2.11120086e-05, -4.08590675e-06],\n",
       "        ...,\n",
       "        [-1.71951045e-03, -2.23473990e-04, -6.48892186e-04, ...,\n",
       "          7.16331425e-04,  2.24384806e-03,  3.51018361e-04],\n",
       "        [-5.77776062e-04,  9.38738536e-05,  4.58404017e-04, ...,\n",
       "         -5.95209655e-04, -2.06572855e-03,  1.13844770e-03],\n",
       "        [-6.89529934e-05,  2.04309332e-04, -2.84313955e-04, ...,\n",
       "          1.00581852e-03,  2.67942536e-03, -9.70840106e-04]]),\n",
       " array([243009.19759763,  34668.86459999,  25930.44735237,  22258.79074804,\n",
       "         17122.41208275,  14994.44822611,  13467.77799174,  12350.48336115,\n",
       "         11346.83702158,  11022.11257397,  10888.51329179,  10118.17771653,\n",
       "          9394.48120387,   8762.93025742,   8396.71672482,   8249.40422191,\n",
       "          7923.40990786,   7188.09571257,   6858.640387  ,   6779.02262943,\n",
       "          6606.67225699,   6129.94207487,   5976.68992497,   5895.99359773,\n",
       "          5684.43238243,   5524.0109356 ,   5440.07997428,   5168.62565277,\n",
       "          5100.16887302,   5030.49300892,   4921.71583576,   4733.72119591,\n",
       "          4594.75655166,   4539.09060691,   4428.93088455,   4370.80154169,\n",
       "          4304.16343886,   4213.68440387,   4125.35571195,   4062.39373306,\n",
       "          3987.51015133,   3930.33981594,   3848.40283644,   3689.55618786,\n",
       "          3621.30871144,   3494.10964592,   3478.72809428,   3399.80796412,\n",
       "          3392.0019906 ,   3332.74747328,   3276.54216959,   3263.6347264 ,\n",
       "          3138.5173189 ,   3111.98376564,   3086.17942992,   3025.7361483 ,\n",
       "          2949.84388477,   2870.80637019,   2853.95624394,   2851.66727199,\n",
       "          2806.14606903,   2766.37222601,   2713.25038754,   2623.39725973,\n",
       "          2612.77502574,   2584.75936045,   2541.7746272 ,   2507.54872497,\n",
       "          2487.81505477,   2454.86456317,   2430.86148164,   2390.01934553,\n",
       "          2376.40192658,   2357.0758269 ,   2290.32652429,   2278.2691022 ,\n",
       "          2262.91978838,   2249.62538684,   2217.12256585,   2193.31108759,\n",
       "          2163.5631853 ,   2121.51982343,   2104.74583304,   2086.47755759,\n",
       "          2055.38977232,   2022.01616892,   2007.58721994,   1977.06757735,\n",
       "          1915.11615666,   1902.27091772,   1892.31073391,   1873.64291643,\n",
       "          1840.13294489,   1815.86162327,   1813.24491001,   1789.04321133,\n",
       "          1767.39672539,   1753.7962967 ,   1726.72931916,   1713.40040442,\n",
       "          1674.87717573,   1652.91348019,   1635.91856383,   1619.96644856,\n",
       "          1553.86583816,   1548.89254572,   1532.51079649,   1529.72917762,\n",
       "          1515.93615522,   1511.60791483,   1481.66905262,   1477.04175731,\n",
       "          1467.31836292,   1457.70749635,   1444.29451307,   1427.845239  ,\n",
       "          1398.97547672,   1393.70742199,   1376.91459413,   1369.39784036,\n",
       "          1351.58198894,   1336.32298431,   1318.58146592,   1309.70219505,\n",
       "          1297.31157147,   1290.39521668,   1276.09430916,   1268.59089479,\n",
       "          1264.91900178,   1252.93283693,   1243.55690511,   1212.9038024 ,\n",
       "          1200.5126511 ,   1190.359977  ,   1185.25554989,   1172.06128148,\n",
       "          1167.04863855,   1153.27011342,   1137.44341507,   1124.87069726,\n",
       "          1116.27253477,   1107.30151892,   1081.01263508,   1074.11156542,\n",
       "          1060.80692514,   1054.41172242,   1050.10323926,   1045.49073973,\n",
       "          1035.31392569,   1023.97960451,   1012.56448611,   1004.92081767,\n",
       "          1001.97990946,    991.92938353,    988.70575844,    975.9589104 ,\n",
       "           966.82229955,    956.05494184,    935.02412233,    933.48646277,\n",
       "           927.24425967,    923.12417783,    911.60462554,    893.89132929,\n",
       "           881.01080366,    875.02066069,    870.52396656,    860.63670789,\n",
       "           859.7380666 ,    853.95656098,    851.98562763,    843.30307964,\n",
       "           839.02544228,    833.2749726 ,    830.23350259,    827.37573203,\n",
       "           823.79941611,    813.02253864,    807.80816923,    805.16223333,\n",
       "           803.84662773,    796.81475526,    796.22352325,    787.64534263,\n",
       "           786.09132251,    782.69097529,    779.76898986,    777.06116305,\n",
       "           774.96260263,    751.36608056,    741.66862745,    735.69734564,\n",
       "           726.4092888 ,    721.03616315,    714.03655203,    705.33583761,\n",
       "           696.8291962 ,    674.66152516,    672.11108781,    660.57716778]),\n",
       " array([[-6.62543115e-02, -6.62716307e-02, -6.62946951e-02, ...,\n",
       "         -7.29343488e-02, -7.29133976e-02, -7.28806214e-02],\n",
       "        [-2.74478777e-01, -2.74510178e-01, -2.74552348e-01, ...,\n",
       "          1.16559215e-03,  1.19175699e-03,  1.26668217e-03],\n",
       "        [-3.42012622e-02, -3.42111942e-02, -3.41782072e-02, ...,\n",
       "          1.06411461e-01,  1.06027114e-01,  1.06060144e-01],\n",
       "        ...,\n",
       "        [ 1.82687214e-02, -1.62875742e-02, -9.75489849e-05, ...,\n",
       "         -1.57116249e-01,  2.26602908e-01, -1.57724040e-01],\n",
       "        [ 7.00000155e-03, -1.66066980e-02,  2.42008542e-02, ...,\n",
       "         -4.65303268e-01,  6.03883227e-01, -3.73757931e-01],\n",
       "        [-5.70379951e-03,  1.34063887e-02, -7.66686230e-03, ...,\n",
       "          1.92439656e-01, -2.03129321e-01,  8.26921539e-02]]))"
      ]
     },
     "execution_count": 21,
     "metadata": {},
     "output_type": "execute_result"
    }
   ],
   "source": [
    "\n",
    "for _ in range(20):\n",
    "    a = gifToArray('./somebody.gif')\n",
    "    shape = a.shape\n",
    "    G = createG(a) \n",
    "    np.linalg.svd(G, full_matrices=False)\n",
    "#print_animation_SVD(G, 100, shape)\n",
    "# G\n",
    "# G.shape\n",
    "#np.linalg.svd(G)\n",
    "#G_SVD(G, 10)\n",
    "#G = createG(a).astype(int)\n",
    "#G.shape\n"
   ]
  },
  {
   "cell_type": "markdown",
   "metadata": {
    "colab_type": "text",
    "id": "hAYGfX8TvGNO"
   },
   "source": [
    "#### 3. ¿Cual sería el error en función de $m$? (Calcule el error utilizando la norma-2) (5 puntos)\n",
    "\n",
    "Considere calcular el error de la siguiente manera: $||G-B_m||_2$, donde $G$ corresponde a la matriz definida anteriormente y $B_m$ a la matriz \"comprimida\" utilizando los métodos correspondientes para un $m$ particular."
   ]
  },
  {
   "cell_type": "code",
   "execution_count": null,
   "metadata": {
    "colab": {},
    "colab_type": "code",
    "id": "Wk65LuvdvGNP"
   },
   "outputs": [],
   "source": [
    "def compression_error_SVD(G, m):\n",
    "    \"\"\"\n",
    "    Parameters\n",
    "    ----------\n",
    "    G             : (q, p)-array\n",
    "                    G matrix\n",
    "    m             : int\n",
    "                    Number of components\n",
    "    Returns\n",
    "    -------\n",
    "    error          : Float\n",
    "                    total size of PCA return\n",
    "    \"\"\"\n",
    "    return error\n",
    "\n",
    "def compression_error_PCA(G, m):\n",
    "    \"\"\"\n",
    "    Parameters\n",
    "    ----------\n",
    "    G             : (q, p)-array\n",
    "                    G matrix\n",
    "    m             : int\n",
    "                    Number of components\n",
    "    Returns\n",
    "    -------\n",
    "    error         : Float\n",
    "                    total size of PCA return\n",
    "    \"\"\"\n",
    "    return error"
   ]
  },
  {
   "cell_type": "markdown",
   "metadata": {
    "colab_type": "text",
    "id": "OCJCcJjH8Bbs"
   },
   "source": [
    "# Prueba\n",
    "\n",
    "Para verificar sus algoritmos, pruebe las funciones desarrolladas para $m=10$."
   ]
  },
  {
   "cell_type": "markdown",
   "metadata": {
    "colab_type": "text",
    "id": "R2zh8RmEvGNT"
   },
   "source": [
    "# Referencias\n",
    "\n",
    "Si corresponde"
   ]
  }
 ],
 "metadata": {
  "colab": {
   "collapsed_sections": [],
   "name": "Tarea-2.ipynb",
   "provenance": []
  },
  "kernelspec": {
   "display_name": "Python 3",
   "language": "python",
   "name": "python3"
  },
  "language_info": {
   "codemirror_mode": {
    "name": "ipython",
    "version": 3
   },
   "file_extension": ".py",
   "mimetype": "text/x-python",
   "name": "python",
   "nbconvert_exporter": "python",
   "pygments_lexer": "ipython3",
   "version": "3.7.6"
  }
 },
 "nbformat": 4,
 "nbformat_minor": 4
}
