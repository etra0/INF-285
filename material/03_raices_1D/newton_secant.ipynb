{
 "cells": [
  {
   "cell_type": "markdown",
   "metadata": {},
   "source": [
    "# Métodos de Newton-Raphson y Secante\n",
    "## ¿Cuál es la ventaja del método de la Secante y Newton-Raphson en comparación a los vistos anteriormente?"
   ]
  },
  {
   "cell_type": "code",
   "execution_count": 1,
   "metadata": {},
   "outputs": [],
   "source": [
    "import numpy as np\n",
    "import matplotlib.pyplot as plt"
   ]
  },
  {
   "cell_type": "code",
   "execution_count": 2,
   "metadata": {},
   "outputs": [],
   "source": [
    "def bisection(f, a, b, tol=1e-10):\n",
    "    fa = f(a)\n",
    "    fb = f(b)\n",
    "    x = []\n",
    "    \n",
    "    # Just checking if the sign is not negative => not root  necessarily \n",
    "    if np.sign(f(a)*f(b)) >= 0:\n",
    "        print('f(a)f(b)<0 not satisfied!')\n",
    "        return None\n",
    "\n",
    "    while (b-a) / 2 > tol:\n",
    "        c = (a + b) / 2.\n",
    "        x.append(c)\n",
    "        fc = f(c)\n",
    "        if fc == 0:\n",
    "            break\n",
    "        elif np.sign(fa*fc) < 0:\n",
    "            b = c\n",
    "            fb = fc\n",
    "        else:\n",
    "            a = c\n",
    "            fa = fc\n",
    "        \n",
    "    return np.array(x)"
   ]
  },
  {
   "cell_type": "code",
   "execution_count": 3,
   "metadata": {},
   "outputs": [],
   "source": [
    "def fpi(g, x0, n, tol=1e-10):\n",
    "    x = np.empty(n+1)\n",
    "    x[0] = x0\n",
    "    for i in range(n):\n",
    "        x[i+1] = g(x[i])\n",
    "        if np.abs(x[i+1] - x[i]) < tol:\n",
    "            x = x[:i+2]\n",
    "            break\n",
    "        \n",
    "    return x"
   ]
  },
  {
   "cell_type": "code",
   "execution_count": 4,
   "metadata": {},
   "outputs": [],
   "source": [
    "def newton_raphson(f, fp, x0, n, m=1, tol=1e-10):\n",
    "    x = np.empty(n + 1)\n",
    "    x[0] = x0\n",
    "    for i in range(n):\n",
    "        x[i+1] = x[i] - m * f(x[i]) / fp(x[i])\n",
    "        if np.abs(x[i+1] - x[i]) < tol or f(x[i+1]) == 0:\n",
    "            x = x[:i+2]\n",
    "            break\n",
    "    return x"
   ]
  },
  {
   "cell_type": "code",
   "execution_count": 5,
   "metadata": {},
   "outputs": [],
   "source": [
    "def secant(f, x0, x1, n, tol=1e-10):\n",
    "    x = np.empty(n + 2)\n",
    "    x[0] = x0\n",
    "    x[1] = x1\n",
    "    for i in range(1, n + 1):\n",
    "        x[i+1] = x[i] - (f(x[i]) * (x[i] - x[i-1])) / (f(x[i]) - f(x[i-1]))\n",
    "        if np.abs(x[i+1] - x[i]) < tol:\n",
    "            x = x[:i+2]\n",
    "            break\n",
    "    return x"
   ]
  },
  {
   "cell_type": "markdown",
   "metadata": {},
   "source": [
    "# Ejemplo\n",
    "\n",
    "Encontrar una raíz de la ecuación:\n",
    "\\begin{equation}\n",
    "    f(x) = x^2-x-1\n",
    "\\end{equation}\n",
    "\n",
    "Sabemos que sus raíces son:\n",
    "\\begin{equation}\n",
    "    x = \\frac{1\\pm\\sqrt{5}}{2}\n",
    "\\end{equation}"
   ]
  },
  {
   "cell_type": "code",
   "execution_count": 6,
   "metadata": {},
   "outputs": [],
   "source": [
    "f = lambda x: x ** 2 - x - 1"
   ]
  },
  {
   "cell_type": "markdown",
   "metadata": {},
   "source": [
    "Utilizamos los distintos algoritmos."
   ]
  },
  {
   "cell_type": "markdown",
   "metadata": {},
   "source": [
    "## Newton-Raphson"
   ]
  },
  {
   "cell_type": "code",
   "execution_count": 7,
   "metadata": {},
   "outputs": [],
   "source": [
    "x0 = 1\n",
    "n = 15\n",
    "fp = lambda x: 2 * x - 1"
   ]
  },
  {
   "cell_type": "code",
   "execution_count": 8,
   "metadata": {},
   "outputs": [],
   "source": [
    "x_n = newton_raphson(f, fp, x0, n)"
   ]
  },
  {
   "cell_type": "code",
   "execution_count": 9,
   "metadata": {},
   "outputs": [
    {
     "name": "stdout",
     "output_type": "stream",
     "text": [
      "(7,) 1.618033988749895 0.0\n"
     ]
    }
   ],
   "source": [
    "print(x_n.shape, x_n[-1], f(x_n[-1]))"
   ]
  },
  {
   "cell_type": "markdown",
   "metadata": {},
   "source": [
    "## Secante"
   ]
  },
  {
   "cell_type": "code",
   "execution_count": 10,
   "metadata": {},
   "outputs": [],
   "source": [
    "x0 = 1\n",
    "x1 = 1.5\n",
    "n = 30"
   ]
  },
  {
   "cell_type": "code",
   "execution_count": 11,
   "metadata": {},
   "outputs": [],
   "source": [
    "x_s = secant(f, x0, x1, n)"
   ]
  },
  {
   "cell_type": "code",
   "execution_count": 12,
   "metadata": {},
   "outputs": [
    {
     "name": "stdout",
     "output_type": "stream",
     "text": [
      "(8,) 1.6180339887498947 -2.220446049250313e-16\n"
     ]
    }
   ],
   "source": [
    "print(x_s.shape, x_s[-1], f(x_s[-1]))"
   ]
  },
  {
   "cell_type": "markdown",
   "metadata": {},
   "source": [
    "## Bisección"
   ]
  },
  {
   "cell_type": "code",
   "execution_count": 13,
   "metadata": {},
   "outputs": [],
   "source": [
    "a = 1\n",
    "b = 2"
   ]
  },
  {
   "cell_type": "code",
   "execution_count": 14,
   "metadata": {},
   "outputs": [],
   "source": [
    "x_b = bisection(f, a, b, tol=1e-16)"
   ]
  },
  {
   "cell_type": "code",
   "execution_count": 15,
   "metadata": {},
   "outputs": [
    {
     "name": "stdout",
     "output_type": "stream",
     "text": [
      "(49,) 1.618033988749895 0.0\n"
     ]
    }
   ],
   "source": [
    "print(x_b.shape, x_b[-1], f(x_b[-1]))"
   ]
  },
  {
   "cell_type": "markdown",
   "metadata": {},
   "source": [
    "## IPF"
   ]
  },
  {
   "cell_type": "code",
   "execution_count": 16,
   "metadata": {},
   "outputs": [],
   "source": [
    "# Funciones para x=g(x)\n",
    "g1 = lambda x: 1 + 1 / x\n",
    "g2 = lambda x: 1 / (x - 1)\n",
    "g3 = lambda x: 1/2 *(x + 1/x + 1)"
   ]
  },
  {
   "cell_type": "code",
   "execution_count": 17,
   "metadata": {},
   "outputs": [],
   "source": [
    "x0 = 1\n",
    "n = 50"
   ]
  },
  {
   "cell_type": "code",
   "execution_count": 18,
   "metadata": {},
   "outputs": [],
   "source": [
    "x_f = fpi(g1, x0, n, tol=1e-10)"
   ]
  },
  {
   "cell_type": "code",
   "execution_count": 19,
   "metadata": {},
   "outputs": [
    {
     "name": "stdout",
     "output_type": "stream",
     "text": [
      "(27,) 1.618033988738303 -2.591993286671368e-11\n"
     ]
    }
   ],
   "source": [
    "print(x_f.shape, x_f[-1], f(x_f[-1]))"
   ]
  },
  {
   "cell_type": "markdown",
   "metadata": {},
   "source": [
    "# Análisis"
   ]
  },
  {
   "cell_type": "markdown",
   "metadata": {},
   "source": [
    "Error conociendo la raíz:\n",
    "\n",
    "\\begin{equation}\n",
    "    e = |x - r|\n",
    "\\end{equation}"
   ]
  },
  {
   "cell_type": "code",
   "execution_count": 20,
   "metadata": {},
   "outputs": [],
   "source": [
    "error = lambda x, r: np.abs(r - x)"
   ]
  },
  {
   "cell_type": "markdown",
   "metadata": {},
   "source": [
    "Aproximación de la tasa de convergencia para el exponente $a$.\n",
    "\n",
    "\\begin{equation}\n",
    "    tasa \\approx \\frac{|x_{i+1} - x_i|}{|x_i - x_{i-1}|^a}\n",
    "\\end{equation}"
   ]
  },
  {
   "cell_type": "code",
   "execution_count": 21,
   "metadata": {},
   "outputs": [],
   "source": [
    "# Utilizando el exponente correspondiente\n",
    "conv_a = lambda x, a: error(x[1:-1], x[2:]) / error(x[:-2], x[1:-1]) ** a"
   ]
  },
  {
   "cell_type": "markdown",
   "metadata": {},
   "source": [
    "Tasa conociendo $r$:\n",
    "\n",
    "\\begin{equation}\n",
    "    tasa \\approx \\frac{|r - x_{i+1}|}{|r - x_i|^a}\n",
    "\\end{equation}"
   ]
  },
  {
   "cell_type": "code",
   "execution_count": 22,
   "metadata": {},
   "outputs": [],
   "source": [
    "conv_t = lambda x, r, e: error(x[1:], r) / error(x[:-1], r) ** e"
   ]
  },
  {
   "cell_type": "markdown",
   "metadata": {},
   "source": [
    "## Convergencia"
   ]
  },
  {
   "cell_type": "markdown",
   "metadata": {},
   "source": [
    "Aproximación del error "
   ]
  },
  {
   "cell_type": "code",
   "execution_count": 23,
   "metadata": {},
   "outputs": [],
   "source": [
    "conv_b = conv_a(x_b, 0)\n",
    "conv_f = conv_a(x_f, 0)\n",
    "conv_n = conv_a(x_n, 0)\n",
    "conv_s = conv_a(x_s, 0)"
   ]
  },
  {
   "cell_type": "code",
   "execution_count": 24,
   "metadata": {},
   "outputs": [
    {
     "data": {
      "image/png": "[encoded data removed]",
      "text/plain": [
       "<Figure size 864x432 with 1 Axes>"
      ]
     },
     "metadata": {
      "needs_background": "light"
     },
     "output_type": "display_data"
    }
   ],
   "source": [
    "plt.figure(figsize=(12, 6))\n",
    "plt.plot(conv_b, 'ro', label=\"Bisección\")\n",
    "plt.plot(conv_f, 'yo', label=\"IPF\")\n",
    "plt.plot(conv_n, 'go', label=\"Newton-Raphson\")\n",
    "plt.plot(conv_s, 'bo', label=\"Secante\")\n",
    "plt.grid(True)\n",
    "plt.legend()\n",
    "plt.yscale('log')\n",
    "plt.show()"
   ]
  },
  {
   "cell_type": "markdown",
   "metadata": {},
   "source": [
    "## Aproximación tasa de convergencia\n",
    "\n",
    "Calcular la tasa de convergencia según el método. Recordar:\n",
    "- Lineal con tasa $S$ para Bisección e IPF\n",
    "- Super-lineal para Secante.\n",
    "- Cuadrática con tasa $M$ para Newton-Rapshon."
   ]
  },
  {
   "cell_type": "code",
   "execution_count": 25,
   "metadata": {},
   "outputs": [],
   "source": [
    "conve_b = conv_a(x_b, 1) \n",
    "conve_f = conv_a(x_f, 1)\n",
    "conve_n = conv_a(x_n, 2)\n",
    "conve_s = conv_a(x_s, (1 + np.sqrt(5)) / 2)"
   ]
  },
  {
   "cell_type": "markdown",
   "metadata": {},
   "source": [
    "Tabla para analizar los valores"
   ]
  },
  {
   "cell_type": "code",
   "execution_count": 26,
   "metadata": {},
   "outputs": [],
   "source": [
    "def table(approx, conv, conve, a):\n",
    "    print(\"i \\t x_{i} \\t\\t\\t x_{i+1} \\t\\t |x_{i+1}-x_{i}| \\t e_{i+1}/e_{i}^\" + str(a))\n",
    "    print(\"%d \\t %.16f \\t %.16f \\t %.16f\" % (0, approx[0], approx[1], error(approx[0], approx[1])))\n",
    "    for i, (xip1, xi, c, ce) in enumerate(zip(approx[1:-1], approx[2:], conv, conve)):\n",
    "        print(\"%d \\t %.16f \\t %.16f \\t %.16f \\t %.16f\" % (i+1, xip1, xi, c, ce))"
   ]
  },
  {
   "cell_type": "markdown",
   "metadata": {},
   "source": [
    "### Bisección"
   ]
  },
  {
   "cell_type": "code",
   "execution_count": 27,
   "metadata": {},
   "outputs": [
    {
     "name": "stdout",
     "output_type": "stream",
     "text": [
      "i \t x_{i} \t\t\t x_{i+1} \t\t |x_{i+1}-x_{i}| \t e_{i+1}/e_{i}^1\n",
      "0 \t 1.5000000000000000 \t 1.7500000000000000 \t 0.2500000000000000\n",
      "1 \t 1.7500000000000000 \t 1.6250000000000000 \t 0.1250000000000000 \t 0.5000000000000000\n",
      "2 \t 1.6250000000000000 \t 1.5625000000000000 \t 0.0625000000000000 \t 0.5000000000000000\n",
      "3 \t 1.5625000000000000 \t 1.5937500000000000 \t 0.0312500000000000 \t 0.5000000000000000\n",
      "4 \t 1.5937500000000000 \t 1.6093750000000000 \t 0.0156250000000000 \t 0.5000000000000000\n",
      "5 \t 1.6093750000000000 \t 1.6171875000000000 \t 0.0078125000000000 \t 0.5000000000000000\n",
      "6 \t 1.6171875000000000 \t 1.6210937500000000 \t 0.0039062500000000 \t 0.5000000000000000\n",
      "7 \t 1.6210937500000000 \t 1.6191406250000000 \t 0.0019531250000000 \t 0.5000000000000000\n",
      "8 \t 1.6191406250000000 \t 1.6181640625000000 \t 0.0009765625000000 \t 0.5000000000000000\n",
      "9 \t 1.6181640625000000 \t 1.6176757812500000 \t 0.0004882812500000 \t 0.5000000000000000\n",
      "10 \t 1.6176757812500000 \t 1.6179199218750000 \t 0.0002441406250000 \t 0.5000000000000000\n",
      "11 \t 1.6179199218750000 \t 1.6180419921875000 \t 0.0001220703125000 \t 0.5000000000000000\n",
      "12 \t 1.6180419921875000 \t 1.6179809570312500 \t 0.0000610351562500 \t 0.5000000000000000\n",
      "13 \t 1.6179809570312500 \t 1.6180114746093750 \t 0.0000305175781250 \t 0.5000000000000000\n",
      "14 \t 1.6180114746093750 \t 1.6180267333984375 \t 0.0000152587890625 \t 0.5000000000000000\n",
      "15 \t 1.6180267333984375 \t 1.6180343627929688 \t 0.0000076293945312 \t 0.5000000000000000\n",
      "16 \t 1.6180343627929688 \t 1.6180305480957031 \t 0.0000038146972656 \t 0.5000000000000000\n",
      "17 \t 1.6180305480957031 \t 1.6180324554443359 \t 0.0000019073486328 \t 0.5000000000000000\n",
      "18 \t 1.6180324554443359 \t 1.6180334091186523 \t 0.0000009536743164 \t 0.5000000000000000\n",
      "19 \t 1.6180334091186523 \t 1.6180338859558105 \t 0.0000004768371582 \t 0.5000000000000000\n",
      "20 \t 1.6180338859558105 \t 1.6180341243743896 \t 0.0000002384185791 \t 0.5000000000000000\n",
      "21 \t 1.6180341243743896 \t 1.6180340051651001 \t 0.0000001192092896 \t 0.5000000000000000\n",
      "22 \t 1.6180340051651001 \t 1.6180339455604553 \t 0.0000000596046448 \t 0.5000000000000000\n",
      "23 \t 1.6180339455604553 \t 1.6180339753627777 \t 0.0000000298023224 \t 0.5000000000000000\n",
      "24 \t 1.6180339753627777 \t 1.6180339902639389 \t 0.0000000149011612 \t 0.5000000000000000\n",
      "25 \t 1.6180339902639389 \t 1.6180339828133583 \t 0.0000000074505806 \t 0.5000000000000000\n",
      "26 \t 1.6180339828133583 \t 1.6180339865386486 \t 0.0000000037252903 \t 0.5000000000000000\n",
      "27 \t 1.6180339865386486 \t 1.6180339884012938 \t 0.0000000018626451 \t 0.5000000000000000\n",
      "28 \t 1.6180339884012938 \t 1.6180339893326163 \t 0.0000000009313226 \t 0.5000000000000000\n",
      "29 \t 1.6180339893326163 \t 1.6180339888669550 \t 0.0000000004656613 \t 0.5000000000000000\n",
      "30 \t 1.6180339888669550 \t 1.6180339886341244 \t 0.0000000002328306 \t 0.5000000000000000\n",
      "31 \t 1.6180339886341244 \t 1.6180339887505397 \t 0.0000000001164153 \t 0.5000000000000000\n",
      "32 \t 1.6180339887505397 \t 1.6180339886923321 \t 0.0000000000582077 \t 0.5000000000000000\n",
      "33 \t 1.6180339886923321 \t 1.6180339887214359 \t 0.0000000000291038 \t 0.5000000000000000\n",
      "34 \t 1.6180339887214359 \t 1.6180339887359878 \t 0.0000000000145519 \t 0.5000000000000000\n",
      "35 \t 1.6180339887359878 \t 1.6180339887432638 \t 0.0000000000072760 \t 0.5000000000000000\n",
      "36 \t 1.6180339887432638 \t 1.6180339887469017 \t 0.0000000000036380 \t 0.5000000000000000\n",
      "37 \t 1.6180339887469017 \t 1.6180339887487207 \t 0.0000000000018190 \t 0.5000000000000000\n",
      "38 \t 1.6180339887487207 \t 1.6180339887496302 \t 0.0000000000009095 \t 0.5000000000000000\n",
      "39 \t 1.6180339887496302 \t 1.6180339887500850 \t 0.0000000000004547 \t 0.5000000000000000\n",
      "40 \t 1.6180339887500850 \t 1.6180339887498576 \t 0.0000000000002274 \t 0.5000000000000000\n",
      "41 \t 1.6180339887498576 \t 1.6180339887499713 \t 0.0000000000001137 \t 0.5000000000000000\n",
      "42 \t 1.6180339887499713 \t 1.6180339887499144 \t 0.0000000000000568 \t 0.5000000000000000\n",
      "43 \t 1.6180339887499144 \t 1.6180339887498860 \t 0.0000000000000284 \t 0.5000000000000000\n",
      "44 \t 1.6180339887498860 \t 1.6180339887499002 \t 0.0000000000000142 \t 0.5000000000000000\n",
      "45 \t 1.6180339887499002 \t 1.6180339887498931 \t 0.0000000000000071 \t 0.5000000000000000\n",
      "46 \t 1.6180339887498931 \t 1.6180339887498967 \t 0.0000000000000036 \t 0.5000000000000000\n",
      "47 \t 1.6180339887498967 \t 1.6180339887498949 \t 0.0000000000000018 \t 0.5000000000000000\n"
     ]
    }
   ],
   "source": [
    "table(x_b, conv_b, conve_b, a)"
   ]
  },
  {
   "cell_type": "markdown",
   "metadata": {},
   "source": [
    "### IPF"
   ]
  },
  {
   "cell_type": "code",
   "execution_count": 28,
   "metadata": {},
   "outputs": [
    {
     "name": "stdout",
     "output_type": "stream",
     "text": [
      "i \t x_{i} \t\t\t x_{i+1} \t\t |x_{i+1}-x_{i}| \t e_{i+1}/e_{i}^1\n",
      "0 \t 1.0000000000000000 \t 2.0000000000000000 \t 1.0000000000000000\n",
      "1 \t 2.0000000000000000 \t 1.5000000000000000 \t 0.5000000000000000 \t 0.5000000000000000\n",
      "2 \t 1.5000000000000000 \t 1.6666666666666665 \t 0.1666666666666665 \t 0.3333333333333330\n",
      "3 \t 1.6666666666666665 \t 1.6000000000000001 \t 0.0666666666666664 \t 0.3999999999999989\n",
      "4 \t 1.6000000000000001 \t 1.6250000000000000 \t 0.0249999999999999 \t 0.3750000000000000\n",
      "5 \t 1.6250000000000000 \t 1.6153846153846154 \t 0.0096153846153846 \t 0.3846153846153846\n",
      "6 \t 1.6153846153846154 \t 1.6190476190476191 \t 0.0036630036630036 \t 0.3809523809523809\n",
      "7 \t 1.6190476190476191 \t 1.6176470588235294 \t 0.0014005602240896 \t 0.3823529411764706\n",
      "8 \t 1.6176470588235294 \t 1.6181818181818182 \t 0.0005347593582887 \t 0.3818181818181530\n",
      "9 \t 1.6181818181818182 \t 1.6179775280898876 \t 0.0002042900919306 \t 0.3820224719101963\n",
      "10 \t 1.6179775280898876 \t 1.6180555555555556 \t 0.0000780274656680 \t 0.3819444444447312\n",
      "11 \t 1.6180555555555556 \t 1.6180257510729614 \t 0.0000298044825942 \t 0.3819742489263303\n",
      "12 \t 1.6180257510729614 \t 1.6180371352785146 \t 0.0000113842055531 \t 0.3819628647190943\n",
      "13 \t 1.6180371352785146 \t 1.6180327868852458 \t 0.0000043483932688 \t 0.3819672131268725\n",
      "14 \t 1.6180327868852458 \t 1.6180344478216819 \t 0.0000016609364362 \t 0.3819655522155682\n",
      "15 \t 1.6180344478216819 \t 1.6180338134001251 \t 0.0000006344215568 \t 0.3819661866826649\n",
      "16 \t 1.6180338134001251 \t 1.6180340557275543 \t 0.0000002423274292 \t 0.3819659445990088\n",
      "17 \t 1.6180340557275543 \t 1.6180339631667064 \t 0.0000000925608479 \t 0.3819660373066749\n",
      "18 \t 1.6180339631667064 \t 1.6180339985218035 \t 0.0000000353550971 \t 0.3819660027299530\n",
      "19 \t 1.6180339985218035 \t 1.6180339850173580 \t 0.0000000135044456 \t 0.3819660156562402\n",
      "20 \t 1.6180339850173580 \t 1.6180339901755971 \t 0.0000000051582392 \t 0.3819660085655353\n",
      "21 \t 1.6180339901755971 \t 1.6180339882053252 \t 0.0000000019702719 \t 0.3819659928497893\n",
      "22 \t 1.6180339882053252 \t 1.6180339889579018 \t 0.0000000007525767 \t 0.3819658851324578\n",
      "23 \t 1.6180339889579018 \t 1.6180339886704433 \t 0.0000000002874585 \t 0.3819657369182581\n",
      "24 \t 1.6180339886704433 \t 1.6180339887802426 \t 0.0000000001097993 \t 0.3819656758314164\n",
      "25 \t 1.6180339887802426 \t 1.6180339887383031 \t 0.0000000000419396 \t 0.3819657345316001\n"
     ]
    }
   ],
   "source": [
    "table(x_f, conv_f, conve_f, 1)"
   ]
  },
  {
   "cell_type": "markdown",
   "metadata": {},
   "source": [
    "### Secante"
   ]
  },
  {
   "cell_type": "code",
   "execution_count": 29,
   "metadata": {
    "scrolled": false
   },
   "outputs": [
    {
     "name": "stdout",
     "output_type": "stream",
     "text": [
      "i \t x_{i} \t\t\t x_{i+1} \t\t |x_{i+1}-x_{i}| \t e_{i+1}/e_{i}^1.618033988749895\n",
      "0 \t 1.0000000000000000 \t 1.5000000000000000 \t 0.5000000000000000\n",
      "1 \t 1.5000000000000000 \t 1.6666666666666667 \t 0.1666666666666667 \t 0.5115940846088300\n",
      "2 \t 1.6666666666666667 \t 1.6153846153846154 \t 0.0512820512820513 \t 0.9311948386620529\n",
      "3 \t 1.6153846153846154 \t 1.6179775280898876 \t 0.0025929127052722 \t 0.3170353894921610\n",
      "4 \t 1.6179775280898876 \t 1.6180340557275543 \t 0.0000565276376667 \t 0.8646491584172478\n",
      "5 \t 1.6180340557275543 \t 1.6180339887482036 \t 0.0000000669793507 \t 0.4999508090467787\n",
      "6 \t 1.6180339887482036 \t 1.6180339887498947 \t 0.0000000000016911 \t 0.6855491046247754\n"
     ]
    }
   ],
   "source": [
    "table(x_s, conv_s, conve_s, (1+np.sqrt(5))/2)"
   ]
  },
  {
   "cell_type": "markdown",
   "metadata": {},
   "source": [
    "### Newton-Raphson"
   ]
  },
  {
   "cell_type": "code",
   "execution_count": 30,
   "metadata": {},
   "outputs": [
    {
     "name": "stdout",
     "output_type": "stream",
     "text": [
      "i \t x_{i} \t\t\t x_{i+1} \t\t |x_{i+1}-x_{i}| \t e_{i+1}/e_{i}^2\n",
      "0 \t 1.0000000000000000 \t 2.0000000000000000 \t 1.0000000000000000\n",
      "1 \t 2.0000000000000000 \t 1.6666666666666667 \t 0.3333333333333333 \t 0.3333333333333333\n",
      "2 \t 1.6666666666666667 \t 1.6190476190476191 \t 0.0476190476190477 \t 0.4285714285714292\n",
      "3 \t 1.6190476190476191 \t 1.6180344478216819 \t 0.0010131712259371 \t 0.4468085106382766\n",
      "4 \t 1.6180344478216819 \t 1.6180339887499890 \t 0.0000004590716929 \t 0.4472134119832668\n",
      "5 \t 1.6180339887499890 \t 1.6180339887498949 \t 0.0000000000000941 \t 0.4467299333062025\n"
     ]
    }
   ],
   "source": [
    "table(x_n, conv_n, conve_n, 2)"
   ]
  },
  {
   "cell_type": "code",
   "execution_count": 31,
   "metadata": {},
   "outputs": [
    {
     "data": {
      "image/png": "[encoded data removed]",
      "text/plain": [
       "<Figure size 432x288 with 1 Axes>"
      ]
     },
     "metadata": {
      "needs_background": "light"
     },
     "output_type": "display_data"
    }
   ],
   "source": [
    "plt.plot(conve_b, 'ro', label=\"Bisección\")\n",
    "plt.plot(conve_f, 'yo', label=\"IPF\")\n",
    "plt.plot(conve_n, 'go', label=\"Newton-Raphson\")\n",
    "plt.plot(conve_s, 'bo', label=\"Secante\")\n",
    "plt.grid(True)\n",
    "plt.legend()\n",
    "plt.yscale('log')\n",
    "plt.show()"
   ]
  },
  {
   "cell_type": "markdown",
   "metadata": {},
   "source": [
    "Estos valores aproximan $S$ y $M$ según corresponda."
   ]
  },
  {
   "cell_type": "markdown",
   "metadata": {},
   "source": [
    "## Convergencia \"teórica\"\n",
    "\n",
    "Utilizando el valor real de la raíz."
   ]
  },
  {
   "cell_type": "code",
   "execution_count": 32,
   "metadata": {},
   "outputs": [],
   "source": [
    "r = (1 + np.sqrt(5)) / 2\n",
    "convt_b = conv_t(x_b, r, 1)\n",
    "convt_f = conv_t(x_f, r, 1)\n",
    "convt_n = conv_t(x_n, r, 2)\n",
    "convt_s = conv_t(x_s, r, (1 + np.sqrt(5)) / 2)"
   ]
  },
  {
   "cell_type": "code",
   "execution_count": 33,
   "metadata": {},
   "outputs": [
    {
     "data": {
      "image/png": "[encoded data removed]",
      "text/plain": [
       "<Figure size 432x288 with 1 Axes>"
      ]
     },
     "metadata": {
      "needs_background": "light"
     },
     "output_type": "display_data"
    }
   ],
   "source": [
    "plt.plot(convt_b, 'ro', label=\"Bisección\")\n",
    "plt.plot(convt_f, 'yo', label=\"IPF\")\n",
    "plt.plot(convt_n, 'go', label=\"Newton-Raphson\")\n",
    "plt.plot(convt_s, 'bo', label=\"Secante\")\n",
    "plt.grid(True)\n",
    "plt.legend\n",
    "plt.yscale('log')\n",
    "plt.show()"
   ]
  },
  {
   "cell_type": "markdown",
   "metadata": {},
   "source": [
    "Acá se obtienen los $S$ y $M$ 'reales'."
   ]
  },
  {
   "cell_type": "markdown",
   "metadata": {},
   "source": [
    "## Error"
   ]
  },
  {
   "cell_type": "code",
   "execution_count": 34,
   "metadata": {},
   "outputs": [],
   "source": [
    "r = (1 + np.sqrt(5)) / 2\n",
    "err_b = error(x_b, r)\n",
    "err_f = error(x_f, r)\n",
    "err_n = error(x_n, r)\n",
    "err_s = error(x_s, r)"
   ]
  },
  {
   "cell_type": "code",
   "execution_count": 35,
   "metadata": {},
   "outputs": [
    {
     "data": {
      "image/png": "[encoded data removed]",
      "text/plain": [
       "<Figure size 864x432 with 1 Axes>"
      ]
     },
     "metadata": {
      "needs_background": "light"
     },
     "output_type": "display_data"
    }
   ],
   "source": [
    "plt.figure(figsize=(12, 6))\n",
    "plt.plot(err_b, 'ro', label=\"Bisección\")\n",
    "plt.plot(err_f, 'yo', label=\"IPF\")\n",
    "plt.plot(err_n, 'go', label=\"Newton-Raphson\")\n",
    "plt.plot(err_s, 'bo', label=\"Secante\")\n",
    "plt.grid(True)\n",
    "plt.legend()\n",
    "plt.xlabel(\"# Iteraciones\")\n",
    "plt.ylabel(\"Error\")\n",
    "plt.yscale('log')\n",
    "plt.show()"
   ]
  },
  {
   "cell_type": "markdown",
   "metadata": {},
   "source": [
    "## Conclusión\n",
    "\n",
    "El método de Newton-Raphson y el de la secante converge a la solución utilizando un menor número de iteraciones."
   ]
  },
  {
   "cell_type": "markdown",
   "metadata": {},
   "source": [
    "## 'Problema' de Newton-Raphson\n",
    "\n",
    "Raíces con multiplicidad $m$."
   ]
  },
  {
   "cell_type": "code",
   "execution_count": 36,
   "metadata": {},
   "outputs": [],
   "source": [
    "f2 = lambda x: x ** 2"
   ]
  },
  {
   "cell_type": "code",
   "execution_count": 37,
   "metadata": {},
   "outputs": [],
   "source": [
    "x0 = 1\n",
    "n = 20\n",
    "f2p = lambda x: 2 * x"
   ]
  },
  {
   "cell_type": "code",
   "execution_count": 38,
   "metadata": {},
   "outputs": [],
   "source": [
    "x_n2 = newton_raphson(f2, f2p, x0, n)"
   ]
  },
  {
   "cell_type": "code",
   "execution_count": 39,
   "metadata": {},
   "outputs": [
    {
     "name": "stdout",
     "output_type": "stream",
     "text": [
      "9.5367431640625e-07 9.094947017729282e-13\n"
     ]
    }
   ],
   "source": [
    "print(x_n2[-1], f2(x_n2[-1]))"
   ]
  },
  {
   "cell_type": "code",
   "execution_count": 40,
   "metadata": {},
   "outputs": [],
   "source": [
    "x0 = 1\n",
    "x1 = 1.1\n",
    "n = 20"
   ]
  },
  {
   "cell_type": "code",
   "execution_count": 41,
   "metadata": {},
   "outputs": [],
   "source": [
    "x_s2 = secant(f2, x0, x1, n)"
   ]
  },
  {
   "cell_type": "code",
   "execution_count": 42,
   "metadata": {},
   "outputs": [
    {
     "name": "stdout",
     "output_type": "stream",
     "text": [
      "5.982324949014275e-05 3.5788211795598648e-09\n"
     ]
    }
   ],
   "source": [
    "print(x_s2[-1], f2(x_s2[-1]))"
   ]
  },
  {
   "cell_type": "code",
   "execution_count": 43,
   "metadata": {},
   "outputs": [],
   "source": [
    "r = 0\n",
    "err_n2 = error(x_n2, r)\n",
    "err_s2 = error(x_s2, r)"
   ]
  },
  {
   "cell_type": "code",
   "execution_count": 44,
   "metadata": {},
   "outputs": [
    {
     "data": {
      "image/png": "[encoded data removed]",
      "text/plain": [
       "<Figure size 864x432 with 1 Axes>"
      ]
     },
     "metadata": {
      "needs_background": "light"
     },
     "output_type": "display_data"
    }
   ],
   "source": [
    "plt.figure(figsize=(12, 6))\n",
    "plt.plot(err_n2, 'go', label=\"Newton-Raphson\")\n",
    "plt.plot(err_s2, 'bo', label=\"Secante\")\n",
    "plt.grid(True)\n",
    "plt.legend()\n",
    "plt.xlabel(\"# Iteraciones\")\n",
    "plt.ylabel(\"Error\")\n",
    "plt.yscale('log')\n",
    "plt.show()"
   ]
  },
  {
   "cell_type": "markdown",
   "metadata": {},
   "source": [
    "El problema es que para este tipo de problemas se obtiene convergencia lineal. Se puede corregir con *Newton-Raphson* modificado."
   ]
  },
  {
   "cell_type": "markdown",
   "metadata": {},
   "source": [
    "## Utilizando $m$ para Newton-Raphson"
   ]
  },
  {
   "cell_type": "code",
   "execution_count": 45,
   "metadata": {},
   "outputs": [],
   "source": [
    "n = 5\n",
    "x0 = 1.1\n",
    "x_n2_m = newton_raphson(f2, f2p, x0, n, 2)"
   ]
  },
  {
   "cell_type": "code",
   "execution_count": 46,
   "metadata": {},
   "outputs": [
    {
     "data": {
      "text/plain": [
       "array([1.1, 0. ])"
      ]
     },
     "execution_count": 46,
     "metadata": {},
     "output_type": "execute_result"
    }
   ],
   "source": [
    "x_n2_m"
   ]
  },
  {
   "cell_type": "code",
   "execution_count": 47,
   "metadata": {},
   "outputs": [],
   "source": [
    "r = 0\n",
    "err_n2_m = error(x_n2_m, r)"
   ]
  },
  {
   "cell_type": "code",
   "execution_count": 48,
   "metadata": {},
   "outputs": [
    {
     "data": {
      "image/png": "[encoded data removed]",
      "text/plain": [
       "<Figure size 864x432 with 1 Axes>"
      ]
     },
     "metadata": {
      "needs_background": "light"
     },
     "output_type": "display_data"
    }
   ],
   "source": [
    "plt.figure(figsize=(12, 6))\n",
    "plt.plot(err_n2_m, 'go', label=\"Newton-Raphson Mejorado\")\n",
    "plt.plot(err_n2, 'gx', label=\"Newton-Raphson\")\n",
    "plt.plot(err_s2, 'bo', label=\"Secante\")\n",
    "plt.grid(True)\n",
    "plt.legend()\n",
    "plt.xlabel(\"# Iteraciones\")\n",
    "plt.ylabel(\"Error\")\n",
    "plt.show()"
   ]
  },
  {
   "cell_type": "markdown",
   "metadata": {},
   "source": [
    "Se alcanzó la solución en una interación!"
   ]
  },
  {
   "cell_type": "markdown",
   "metadata": {},
   "source": [
    "## Otro ejemplo"
   ]
  },
  {
   "cell_type": "markdown",
   "metadata": {},
   "source": [
    "\\begin{equation}\n",
    "    f(x) = 0.5 x\\cos(x)\n",
    "\\end{equation}"
   ]
  },
  {
   "cell_type": "code",
   "execution_count": 49,
   "metadata": {},
   "outputs": [],
   "source": [
    "f3 = lambda x: .5 * x * np.cos(x) "
   ]
  },
  {
   "cell_type": "code",
   "execution_count": 50,
   "metadata": {},
   "outputs": [],
   "source": [
    "x = np.linspace(-10, 10, 100)"
   ]
  },
  {
   "cell_type": "code",
   "execution_count": 51,
   "metadata": {},
   "outputs": [
    {
     "data": {
      "image/png": "[encoded data removed]",
      "text/plain": [
       "<Figure size 432x288 with 1 Axes>"
      ]
     },
     "metadata": {
      "needs_background": "light"
     },
     "output_type": "display_data"
    }
   ],
   "source": [
    "plt.plot(x, f3(x))\n",
    "plt.grid(True)\n",
    "plt.show()"
   ]
  },
  {
   "cell_type": "code",
   "execution_count": 52,
   "metadata": {},
   "outputs": [],
   "source": [
    "x0 = -5\n",
    "x1 = -4\n",
    "n = 20\n",
    "xx_s = secant(f3, x0, x1, n)"
   ]
  },
  {
   "cell_type": "code",
   "execution_count": 53,
   "metadata": {},
   "outputs": [
    {
     "name": "stdout",
     "output_type": "stream",
     "text": [
      "(8,) -4.71238898038469 4.3282590608740267e-16\n"
     ]
    }
   ],
   "source": [
    "print(xx_s.shape, xx_s[-1], f3(xx_s[-1]))"
   ]
  },
  {
   "cell_type": "code",
   "execution_count": 54,
   "metadata": {},
   "outputs": [],
   "source": [
    "x0 = 1\n",
    "n = 20\n",
    "f3p = lambda x: .5 * np.cos(x) - .5 * x * np.sin(x)\n",
    "xx_n = newton_raphson(f3, f3p, x0, n)"
   ]
  },
  {
   "cell_type": "code",
   "execution_count": 55,
   "metadata": {},
   "outputs": [
    {
     "name": "stdout",
     "output_type": "stream",
     "text": [
      "(8,) 1.5707963267948966 4.8091767343044744e-17\n"
     ]
    }
   ],
   "source": [
    "print(xx_n.shape, xx_n[-1], f3(xx_n[-1]))"
   ]
  },
  {
   "cell_type": "markdown",
   "metadata": {},
   "source": [
    "# Referencias\n",
    "\n",
    "* Sauer, T. (2006). Numerical Analysis Pearson Addison Wesley.\n",
    "* https://github.com/tclaudioe/Scientific-Computing/tree/master/SC1"
   ]
  }
 ],
 "metadata": {
  "kernelspec": {
   "display_name": "Python 3.7.7 64-bit ('cc': conda)",
   "language": "python",
   "name": "python37764bitcccondaf9be1bff0edc45b89bc5baae44dcd3f4"
  },
  "language_info": {
   "codemirror_mode": {
    "name": "ipython",
    "version": 3
   },
   "file_extension": ".py",
   "mimetype": "text/x-python",
   "name": "python",
   "nbconvert_exporter": "python",
   "pygments_lexer": "ipython3",
   "version": "3.7.7"
  }
 },
 "nbformat": 4,
 "nbformat_minor": 4
}
