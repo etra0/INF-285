{
 "cells": [
  {
   "cell_type": "markdown",
   "metadata": {},
   "source": [
    "<img src=\"http://sct.inf.utfsm.cl/wp-content/uploads/2020/04/logo_di.png\" style=\"width:60%\">\n",
    "\n",
    "<center>\n",
    "    <h1> ILI285/INF285 Computación Científica </h1>\n",
    "    <h1> Aritmética de punto flotante y pérdida de precisión</h1>\n",
    "</center>"
   ]
  },
  {
   "cell_type": "code",
   "execution_count": 2,
   "metadata": {},
   "outputs": [],
   "source": [
    "import numpy as np\n",
    "import bitstring as bs\n",
    "import matplotlib.pyplot as plt"
   ]
  },
  {
   "cell_type": "markdown",
   "metadata": {},
   "source": [
    "# Números binarios"
   ]
  },
  {
   "cell_type": "markdown",
   "metadata": {},
   "source": [
    "**Número binario**: Son aquellos números escritos en función te potencias de $2$. Se representan como:\n",
    "\n",
    "$$\n",
    "B = \\cdots b_{2}\\,b_{1}\\,b_{0}.b_{-1}\\,b_{-2}\\cdots\n",
    "$$\n",
    "\n",
    "donde cada dígito o bit es 0 o 1."
   ]
  },
  {
   "cell_type": "markdown",
   "metadata": {},
   "source": [
    "Al igual que con los decimales, se escriben como potencias de 2:\n",
    "\n",
    "$$\n",
    "\\begin{align}\n",
    "(1001.11)_{2} &= 1\\,2^{3}+0\\,2^{2}+0\\,2^{1}+1\\,2^{0}+1\\,2^{-1}+1\\,2^{-2} \\\\\n",
    "&= 8 + 0 + 0 + 1 + 0.5 + 0.25\\\\\n",
    "&= 9 + 0.75\\\\\n",
    "&= (9.75)_{10}\n",
    "\\end{align}\n",
    "$$"
   ]
  },
  {
   "cell_type": "markdown",
   "metadata": {},
   "source": [
    "Para transformar:\n",
    "**Decimal a binario**: Separar parte entera y decimal.\n",
    "\n",
    "Luego:\n",
    "\n",
    "* Dividir la parte entera por 2 sucesivamente y almacenar el resto. El número binario se escibe en sentido contrario a como aparecieron.\n",
    "    \n",
    "* La parte fraccionaria se multplica por 2, y la parte entera son los digitos binarios.\n",
    "    \n",
    "**Ejemplo**: Transformemos $(53.7)_{10}$.\n",
    "\n",
    "Comenzamos separando la parte entera y decimal. $(53.7)_{10} = 53 + 0.7$. La parte entera queda como:\n",
    "\n",
    "$$\n",
    "\\begin{align}\n",
    "53/2 &= 26,\\,R = 1\\\\\n",
    "26/2 &= 13,\\,R = 0 \\\\\n",
    "13/2 &= 6, \\,R = 1 \\\\\n",
    "6/2 &= 3,\\, R= 0\\\\\n",
    "3/2 &= 1,\\, R = 1\\\\\n",
    "1/2 &= 0, \\,R = 1\n",
    "\\end{align}\n",
    "$$\n",
    "\n",
    "Por lo tanto la parte entera corresponde ser a $110101$ en binario. La parte decimal queda como:\n",
    "\n",
    "$$\n",
    "\\begin{align}\n",
    "0.7\\times 2 &= 1+0.4,\\,R = 1\\\\\n",
    "0.4\\times 2&=  0+0.8\\,R = 0 \\\\\n",
    "0.8\\times 2 &= 1+0.6, \\,R = 1 \\\\\n",
    "0.6\\times 2 &= 1+0.2,\\, R= 1\\\\\n",
    "0.2\\times 2 &= 0+0.4,\\, R = 0\\\\\n",
    "&\\vdots \n",
    "\\end{align}\n",
    "$$\n",
    "\n",
    "Por lo tanto la parte decimal corresponde ser a $0.1\\overline{0110}$. Finalmente el numero final $(53.7)_{10} = (110101.1\\overline{0110})_{2}$"
   ]
  },
  {
   "cell_type": "markdown",
   "metadata": {},
   "source": [
    "El algoritmo anterior funciona debido a:\n",
    "\n",
    "* Sea $x$ el número, se separa en $x = n + d$, con $n >1$, $d \\in (0,1)$.\n",
    "* $n$ se divide por 2 y se toma el resto, es decir: $n = 2n_{0} + r_{0}$. Luego se realiza lo mismo con $n_{o}$:\n",
    "\n",
    "$$\n",
    "n_{0} = 2n_{1}+r_{1} \\rightarrow n = 2(2n_{1} + r_{1}) + r_{0} \\\\\n",
    "n = 2^{2} n_{1} + 2^{1}r_{1} + 2^{0}r_{0}\n",
    "$$\n",
    "\n",
    "Para la parte decirmal es al revés: $2d = d_{-1} + r_{-1} \\rightarrow d = 2^{-1}d_{-1}+2^{-1}r_{-1}$, pero $2d_{-1} = d_{-2} + r_{-2}$, entonces:\n",
    "\n",
    "$$\n",
    "\\begin{align}\n",
    "d = 2^{-1}d_{-1} + 2^{-1}r_{-1} &= 2^{-1}(2^{-1}d^{-2} + 2^{-1}r^{-2}) + 2^{-1}r_{-1}\\\\\n",
    "=& 2^{-2}d_{-2} + 2^{-2}r_{-2} + 2^{-1}r_{-1}\n",
    "\\end{align}\n",
    "$$\n",
    "\n",
    "y así sucesivamente."
   ]
  },
  {
   "cell_type": "markdown",
   "metadata": {},
   "source": [
    "**De binario a decimal**: Se separa la parte entera de la decimal. Luego:\n",
    "\n",
    "* La parte entera se calcula con potencias de 2.\n",
    "* La parte fraccionaria, si es finita, se puede usar potencias de 2 con exponente negativos. Si es periodica, se puede despalzar la parte periodica o aplicar serie geometrica."
   ]
  },
  {
   "cell_type": "markdown",
   "metadata": {},
   "source": [
    "**Ejemplo**:"
   ]
  },
  {
   "cell_type": "markdown",
   "metadata": {},
   "source": [
    "Para la parte periódica, como se mencionó, se puede:\n",
    "**Desplazar**: Tomemos $x = (0.\\overline{1011})_{2} \\rightarrow 2^{4} x = (1011.\\overline{1011})_{2}$ Asi:\n",
    "\n",
    "$$\n",
    "2^{4}x -x = (1011.\\overline{1011})_{2} - (0.\\overline{1011})_{2} = (1011)_{2} = 11 \\\\\n",
    "\\therefore (2^{4} -1 )x = 11\\\\\n",
    "\\rightarrow x = \\frac{11}{2^{4}-1} = \\big(\\frac{11}{15}\\big)_{10}\n",
    "$$\n",
    "**Serie geométrica**: "
   ]
  },
  {
   "cell_type": "markdown",
   "metadata": {},
   "source": [
    "Recordar que:\n",
    "\n",
    "$$\n",
    "1 + r + r^{2} + \\cdots = \\displaystyle \\sum_{i=0}^{\\infty} r^{i} = \\frac{1}{1-r}, \\quad |r| < 1 \n",
    "$$\n",
    "\n",
    "Así, por ejemplo: $x = (0.\\overline{10})_{2}$ es:\n",
    "\n",
    "$$\n",
    "x = (0.101010\\cdots)_{2} = \\displaystyle \\sum_{i=0}^{\\infty} 2^{-(2i+1)} = \\displaystyle \\sum_{i=0}^{\\infty} 2^{-2i} 2^{-1} = \\frac{1}{2} \\displaystyle \\sum_{i=0}^{\\infty} (2^{-2})^{i},\\,\\,\\,\\, r = 2^{-2} = \\frac{1}{4}\\\\\n",
    "\\therefore x = \\frac{1}{2} \\frac{1}{1-\\frac{1}{4}} = \\frac{1}{2} \\frac{1}{\\frac{3}{4}} = \\frac{1}{2} \\frac{4}{3} = \\Big(\\frac{2}{3}\\Big)_{10}\n",
    "$$"
   ]
  },
  {
   "cell_type": "markdown",
   "metadata": {},
   "source": [
    "# Punto flotante "
   ]
  },
  {
   "cell_type": "markdown",
   "metadata": {},
   "source": [
    "* El standart actual es el IEEE754, el cual permite representar números reales.\n",
    "* El números se componete de tres partes:\n",
    "    * El signo (+/-)\n",
    "    * Mantisa: bits significativos\n",
    "    * Exponente de la base 2\n",
    "* Su forma es:\n",
    "$$\n",
    "b = \\underbrace{\\pm}_{a}1.\\underbrace{b_{1}b_{2}\\cdots b_{n}}_{b} \\times 2^{\\overbrace{p}^{c}}\n",
    "$$\n",
    "\n",
    "(a) Signo\n",
    "(b) Mantisa \n",
    "(c) Exponente\n",
    "\n",
    "a todo lo anterior se le llama word/palabra"
   ]
  },
  {
   "cell_type": "markdown",
   "metadata": {},
   "source": [
    "**Ejemplos**:\n",
    "* $9 = (1001.0)_{2} = 1.001 \\times 2^{3}$\n",
    "* $0.95 = (0.11)_{2} = 11 \\times 2^{-1}$"
   ]
  },
  {
   "cell_type": "markdown",
   "metadata": {},
   "source": [
    "Los tamaños usuales son:\n",
    "* Single (32): 1 bit signo, 8 exponente, 23 mantisa\n",
    "* Double (64): 1 bit signo, 11 exponente, 52 mantisa\n",
    "* Long double(80): 1 bit signo, 15 exponente, 64 mantisa"
   ]
  },
  {
   "cell_type": "markdown",
   "metadata": {},
   "source": [
    "Cada forma funciona de manera equivalente. Todas funcionan en formanto **normalizado**, es decir, el bit entero es 1:\n",
    "\n",
    "$$\n",
    "b = \\pm 1.b_{1}b_{2}\\cdots b_{n} \\times 2^{p}\n",
    "$$"
   ]
  },
  {
   "cell_type": "markdown",
   "metadata": {},
   "source": [
    "El bit más significativo se deja en 1 moviendo el exponente."
   ]
  },
  {
   "cell_type": "markdown",
   "metadata": {},
   "source": [
    "Notar que el $1$, tomando 64 bits es:\n",
    "\n",
    "$$\n",
    "1_{10} = \\pm 1.00 \\cdots 0 \\times 2^{0} \\rightarrow b_{i} = 0, \\forall i \\in \\{1 \\cdots 52\\}\n",
    "$$\n",
    "\n",
    "El siguiente flotante más grande de 1 es:\n",
    "\n",
    "$$\n",
    "+ 1.00 \\cdots 001 \\times 2^{0} = 1\\times 2^{0} + 2^{-52} \\times 2^{0} = 1 + 2^{-52}\n",
    "$$"
   ]
  },
  {
   "cell_type": "markdown",
   "metadata": {},
   "source": [
    "**Machine epsilon**: Denotado como $\\epsilon_{mach}$, se define como la distancia entre el 1 y el siguiente número flotante mayor que 1. Para el IEEE double precision, su valor es:\n",
    "\n",
    "$$\n",
    "\\epsilon_{mach} = 2^{-52} \\approx 2·10^{-16}\n",
    "$$"
   ]
  },
  {
   "cell_type": "markdown",
   "metadata": {},
   "source": [
    "Cuando un número binario tiene mas de 52 bits, los bits que no son almacenados pueden **truncarse** (descartar bits sobrantes) o **Redondearse** (aproximar de alguna forma, lo que hace IEEE754)."
   ]
  },
  {
   "cell_type": "markdown",
   "metadata": {},
   "source": [
    "**Regla del redondeo al más cercano de IEEE**: Para doble precisión, si el bit 53 después del punto decimal:\n",
    "\n",
    "* Es cero, se redondea hacia abajo (truncar).\n",
    "* Si es uno, entonces:\n",
    "    * Redondear hacia arriba (sumar 1 al bit 52) si los números después del bit 53 no son todos cero.\n",
    "    * Si todos los bits después del bit 53 son cero, entonces se suma uno al bit 52 si y solo si es 1."
   ]
  },
  {
   "cell_type": "markdown",
   "metadata": {},
   "source": [
    "Denotaremos por $fl(x)$ el valor en punto flotante con **IEEE754**, con regla de redoneo al más cercano de un número real $x$."
   ]
  },
  {
   "cell_type": "markdown",
   "metadata": {},
   "source": [
    "#### Ejemplos\n",
    "\n",
    "\\begin{equation}\n",
    "    −1.\\underbrace{0001 \\dots 0001}_{52 ~ \\text{bits}}|1001\\dots\\cdot 2^8 \\implies −1.\\underbrace{0001 \\dots 0010}_{52 ~ \\text{bits}} \\cdot 2^8\n",
    "\\end{equation}\n",
    "\n",
    "Como los números a la derecha del bit $52$ no son todos $0$, simplemente se suma $1$ al bit $52$. Se debe considerar el acarreo correspondiente.\n",
    "\n",
    "\\begin{equation}\n",
    "    +1.\\underbrace{0001 \\dots 0001}_{52 ~ \\text{bits}}|1000\\dots \\cdot 2^5 \\implies +1.\\underbrace{0001 \\dots 0010}_{52 ~ \\text{bits}} \\cdot 2^5 \n",
    "\\end{equation}\n",
    "\n",
    "En este caso todos los bits después del bit $53$ son $0$, pero como el bit $52$ es $1$ entonces se le suma $1$.\n",
    "\n",
    "\\begin{equation}\n",
    "    +1.\\underbrace{1001 \\dots 0100}_{52 ~ \\text{bits}}|1000\\dots\\cdot 2^3 \\implies +1.\\underbrace{1001 \\dots 0100}_{52 ~ \\text{bits}} \\cdot 2^3\n",
    "\\end{equation}\n",
    "\n",
    "Para este ejemplo no se le suma $1$ al bit $52$ debido a que los que aparecen a la derecha del bit $53$ son puros $0$."
   ]
  },
  {
   "cell_type": "markdown",
   "metadata": {},
   "source": [
    "**Error absoluto y relativo**: Sea $x_{c}$ la versión comptutada de un valor real $x$, entonces:\n",
    "\n",
    "* Se define el **error absoluto** como $|x_{c} - x|$\n",
    "* Se define el **error relativo** como $\\frac{|x_{c}-x|}{|x|}$, si existe dicho valor."
   ]
  },
  {
   "cell_type": "markdown",
   "metadata": {},
   "source": [
    "**Cota de redondeo**: Sea $fl(x)$ el valor aproximado para un modelo de punto flotante de $x$. Entonces:\n",
    "\n",
    "\\begin{equation}\n",
    "    \\frac{|fl(x) - x|}{|x|} \\leq \\frac{1}{2} \\cdot \\epsilon_{mach} \n",
    "\\end{equation}\n",
    "\n",
    "o de manera análoga\n",
    "\n",
    "\\begin{equation}\n",
    "    |fl(x) - x| \\leq \\frac12 \\cdot \\epsilon_{mach} |x|\n",
    "\\end{equation}\n",
    "\n",
    "Esto quiere decir que la distancia entre la representación de punto flotante y el número $x$ es proporcional a la magnitud del real $x$."
   ]
  },
  {
   "cell_type": "markdown",
   "metadata": {},
   "source": [
    "**Demostración**: Tomemos $x=1.b_{1}b_{2}\\dots b_{52} b_{53} \\dots \\times 2^{p}$ y $fl(x) = 1.b_{1}b_{2}\\dots b_{52} \\times 2^{p}$. Tenemos:\n",
    "\n",
    "* Si $b_{53} = 0 \\rightarrow b{i} = e_{i}$ y $x > fl(x)$:\n",
    "\n",
    "$$\n",
    "\\begin{align}\n",
    "0 < x - fl(x) &= 1.b_{1}b_{2}\\dots b_{52} \\dots 2^{p} - 1.b_{1}b_{2}\\dots b_{52} \\times 2^{p}\\\\\n",
    "&=0.000\\dots 0 b_{53} \\dots \\times 2^{p}\\\\\n",
    "&=0.b_{53} \\dots \\times 2^{p-52}\\\\\n",
    "&= b_{53}.b_{54} \\dots \\times 2^{p-1} \\epsilon_{mach}\\text{, como } b_{53} < 1 \\\\\n",
    "&\\leq 2^{p-1} \\epsilon_{mach}\n",
    "\\end{align}\n",
    "$$\n",
    "\n",
    "* Si $b_{53} = 1 \\rightarrow$ Redondeo: $fl(x) = 1.b_{1}b_{2} \\dots b_{52} \\times 2^{p} + \\epsilon_{mach} \\times 2^{p}$\n",
    "\n",
    "$$\n",
    "\\begin{align}\n",
    "0 < fl(x) - x &= 1.b_{1}b_{2}\\dots b_{52} \\times 2^{p} + \\epsilon_{mach} \\times 2^{p} - 1.b_{1}b_{2}\\dots b_{52} \\dots \\times 2^{p}  \\\\\n",
    "&= (e_{mach} - 0.00 \\dots 0 b_{53} \\dots ) \\times 2^{p}\\\\\n",
    "&= (e_{mach} - 0. b_{53} \\dots \\times 2^{-52}) \\times 2^{p} \\\\\n",
    "&= (1-0.b_{53} \\dots) \\times 2^{p} \\epsilon_{mach}\n",
    "\\end{align}\n",
    "$$\n",
    "\n",
    "$$\n",
    "\\begin{align}\n",
    "\\text{Como } 0.b_{53}\\dots \\geq 0.5 \\iff -0.5 &\\geq -0.b_{53}\\dots\\,\\,\\, /+1\\\\\n",
    "1 - \\frac{1}{2} &\\geq 1 -0.b_{53}\\dots\\\\\n",
    "\\frac{1}{2} &\\geq 1 -0.b_{53}\\dots\n",
    "\\end{align}\n",
    "$$\n",
    "\n",
    "$$\n",
    "\\therefore 0 < fl(x) - x \\leq \\frac{1}{2} 2^{p} \\epsilon_{mach} = 2^{p-1} \\epsilon_{mach}\n",
    "$$\n",
    "\n",
    "La definición de valor absoluto nos dice:\n",
    "\n",
    "$$\n",
    "|a|\\geq b\\iff a\\leq -b\\ \\lor a \\geq b\n",
    "$$\n",
    "\n",
    "En nuestro caso \n",
    "\n",
    "$$\n",
    "\\begin{align}\n",
    "x - fl(x) \\leq  2^{p-1} \\epsilon_{mach} \\lor fl(x) - x &\\leq  2^{p-1} \\epsilon_{mach} \\\\\n",
    "x - fl(x) \\leq  2^{p-1} \\epsilon_{mach} \\lor  - 2^{p-1} \\epsilon_{mach}  &\\leq  x - fl(x) \n",
    "\\end{align}\n",
    "$$\n",
    "Por lo que obtenemos:\n",
    "\n",
    "$$\n",
    "|x-fl(x)| \\leq 2^{p-1} \\epsilon_{mach}\n",
    "$$\n",
    "\n",
    "Además: $|x| = 1. b_{1} \\dots b_{52} \\dots \\times 2^{p} \\geq 2^{p} \\iff \\frac{1}{|x|} \\leq \\frac{1}{2^{p}}$.\n",
    "\n",
    "Finalmente obtenemos:\n",
    "\n",
    "$$\n",
    "\\frac{|x-fl(x)|}{|x|} \\leq \\frac{2^{p-1} \\epsilon_{mach}}{2^{p}} = \\frac{1}{2} \\epsilon_{mach}\n",
    "$$"
   ]
  },
  {
   "cell_type": "markdown",
   "metadata": {},
   "source": [
    "**La estructura de un número de punto flotante**, considerando 64 bits u 8 bytes es:"
   ]
  },
  {
   "cell_type": "markdown",
   "metadata": {},
   "source": [
    "**Word**: \n",
    "\n",
    "| $\\text{Signo}$ | $\\text{Exponente}$   | $\\text{Mantisa}$ |\n",
    "|------|------| ----|\n",
    "| 1 bit| 11 bits | 52 bits | \n",
    "|   $s$  | $e_{1}$ ... $e_{n}$ | $b_{1}$ ...  $b_{52}$ |"
   ]
  },
  {
   "cell_type": "markdown",
   "metadata": {},
   "source": [
    "La estructura de cada parte es:\n",
    "\n",
    "* **Signo**: Solo es un bit, por lo que es 0 o 1. Se toma que 0 es positivo y 1 es negativo\n",
    "* **Exponente**: Como son 11 bits, hay $2^{11} = 2048$ combinaciones sin embargo, el 0 y el 2047 son usados para propósitos especiales. El rango disponible es [1,2046]. Se usa **Exponent bias**, que mapea el rango disponible (positivo, para almacenar en binario) a un rango con valores positivos y negativos.\n",
    "\n",
    "La regla para encontrar el bias mediante el standart IEEE-754 es: \n",
    "\n",
    "$$K = 2^{n-1} - 1,$$ \n",
    "\n",
    "donde $n$ es el número de bits."
   ]
  },
  {
   "cell_type": "markdown",
   "metadata": {},
   "source": [
    "Exponent bias para **Double**: \n",
    "\n",
    "$2^{11-1} - 1 = 2^{10} - 1 = 1024 - 1 = 1023 $\n",
    "\n",
    "$p \\in [ 1- 1023, 2046-1023] = [-1022,1023]$"
   ]
  },
  {
   "cell_type": "code",
   "execution_count": 13,
   "metadata": {},
   "outputs": [
    {
     "data": {
      "image/png": "[encoded data removed]",
      "text/plain": [
       "<Figure size 360x360 with 1 Axes>"
      ]
     },
     "metadata": {
      "needs_background": "light"
     },
     "output_type": "display_data"
    }
   ],
   "source": [
    "y = lambda x: x - 1023\n",
    "points = np.linspace(1,2026,100)\n",
    "\n",
    "plt.figure(figsize=(5, 5))\n",
    "plt.plot(points,y(points),label = r\"y = x - 1023\")\n",
    "plt.grid(True)\n",
    "plt.legend()\n",
    "plt.show()"
   ]
  },
  {
   "cell_type": "code",
   "execution_count": 55,
   "metadata": {},
   "outputs": [
    {
     "name": "stdout",
     "output_type": "stream",
     "text": [
      "Exponente sin shift 2045\n",
      "Exponente con shift 1022\n",
      "2**1022\n"
     ]
    }
   ],
   "source": [
    "#n = '000000000000'\n",
    "n = '11111111101'\n",
    "print(\"Exponente sin shift\",int(n,2))\n",
    "if int(n,2) == 2047 or int(n,2) == 0:\n",
    "    print(\"Caso especial!\")\n",
    "else:\n",
    "    print(\"Exponente con shift\",int(n,2)-1023)\n",
    "    print(\"2**\"+str(int(n,2)-1023))"
   ]
  },
  {
   "cell_type": "markdown",
   "metadata": {},
   "source": [
    "Además, es importante recalcular que los bits del exponente se almacenan en orden inverso, es decir:\n",
    "\n",
    "$p: e_{1}e_{2}\\cdots e_{11} \\rightarrow \\overline{p} = e_{1}2^{10} + e_{2}2^{9} + \\cdots + e_{11} 2^{0} - 1023$"
   ]
  },
  {
   "cell_type": "markdown",
   "metadata": {},
   "source": [
    "**Nota**: Como el número es almacenado en potencias de 2, los intervalos y la cantidad de números representable en estos intervalos son más grandes."
   ]
  },
  {
   "cell_type": "markdown",
   "metadata": {},
   "source": [
    "**Casos especiales del exponente**: \n",
    "\n",
    "* **P=2047**: es decir, p = $11111111111$. En este caso, se designan números o valores \"especiales\":"
   ]
  },
  {
   "cell_type": "markdown",
   "metadata": {},
   "source": [
    "| $s$ | $e_{1}\\,e_{2}\\,e_{3}$ ... $e_{11}$   |  $b_{1}\\,b_{2}\\,b_{3}$ ... $b_{52}$ | Lo que representa|\n",
    "|------|------| ----| ---- |\n",
    "| 0| 1 1 1 ... 1  | 0 0 0 ... 0  | $+ \\infty$ |\n",
    "| 1| 1 1 1 ... 1  | 0 0 0 ... 0  | $- \\infty$ |\n",
    "| 1| 1 1 1 ... 1  | x x x ... x  | NaN |"
   ]
  },
  {
   "cell_type": "markdown",
   "metadata": {},
   "source": [
    "* **P=0**: Se utilza el formato **Non-normalized floating point number**, que son los números:\n",
    "\n",
    "$$\n",
    "\\pm 0.b_{1} b_{2} \\cdots{...} b_{52} \\times 2^{-1022} \n",
    "$$"
   ]
  },
  {
   "cell_type": "markdown",
   "metadata": {},
   "source": [
    "Así, con esto el número 0 se representa de dos formas:\n",
    "\n",
    "$$\n",
    "+0: S = 0, e_{i} = 0, b_{i} = 0 \\\\\n",
    "-0: S = 1, e_{i} = 0, b_{i} = 0\n",
    "$$"
   ]
  },
  {
   "cell_type": "code",
   "execution_count": 2,
   "metadata": {},
   "outputs": [],
   "source": [
    "def next_float(f):\n",
    "    #packing double-precision foat\n",
    "    b = bs.pack('>d', f)\n",
    "    \n",
    "    #extracting mantisa as unsigned int\n",
    "    #and adding up 1\n",
    "    m = b[12:].uint\n",
    "    m += 1\n",
    "    \n",
    "    #putting the result in his place\n",
    "    b[12:] = m\n",
    "    \n",
    "    return b.float\n",
    "\n",
    "def epsilon(f):\n",
    "    next_f = next_float(f)\n",
    "    return next_f - f\n",
    "\n",
    "def to_binary(f):\n",
    "    b = bs.pack('>d', f)\n",
    "    b = b.bin\n",
    "    #show sign + exponent + mantisa\n",
    "    print(b[0]+' '+b[1:12]+ ' '+b[12:])"
   ]
  },
  {
   "cell_type": "code",
   "execution_count": 3,
   "metadata": {},
   "outputs": [
    {
     "data": {
      "text/plain": [
       "0"
      ]
     },
     "execution_count": 3,
     "metadata": {},
     "output_type": "execute_result"
    }
   ],
   "source": [
    "int('01111111111',2) - 1023"
   ]
  },
  {
   "cell_type": "code",
   "execution_count": 4,
   "metadata": {
    "scrolled": true
   },
   "outputs": [
    {
     "name": "stdout",
     "output_type": "stream",
     "text": [
      "0 10000110100 0000000000000000000000000000000000000000000000000010\n"
     ]
    }
   ],
   "source": [
    "to_binary(2**53+4)"
   ]
  },
  {
   "cell_type": "code",
   "execution_count": 5,
   "metadata": {},
   "outputs": [
    {
     "data": {
      "text/plain": [
       "'0 10000110100 0000000000000000000000000000000000000000000000000001|1'"
      ]
     },
     "execution_count": 5,
     "metadata": {},
     "output_type": "execute_result"
    }
   ],
   "source": [
    "\"0 10000110100 0000000000000000000000000000000000000000000000000001|1\""
   ]
  },
  {
   "cell_type": "markdown",
   "metadata": {},
   "source": [
    "**Ejemplo 1**:"
   ]
  },
  {
   "cell_type": "markdown",
   "metadata": {},
   "source": [
    "\n",
    "\\begin{align}\n",
    "1.00\\dots0 \\times 2^{0} + 1.00\\dots0 \\times 2^{-53} &=  \\\\\n",
    "&= 1.0000000000000000000000000000000000000000000000000000|0 \\times 2^{0}\\\\\n",
    "&+ 0.0000000000000000000000000000000000000000000000000000|1 \\times 2^{0}\\\\\n",
    "&----------------------------------\\\\\n",
    "&= 1.0000000000000000000000000000000000000000000000000000|1 \\times 2^{0}\n",
    "\\end{align}"
   ]
  },
  {
   "cell_type": "markdown",
   "metadata": {},
   "source": [
    "El resultado es igual a $1$ y esperabamos $1 + 2^{-53}$"
   ]
  },
  {
   "cell_type": "markdown",
   "metadata": {},
   "source": [
    "**Ejemplo 2**:"
   ]
  },
  {
   "cell_type": "markdown",
   "metadata": {},
   "source": [
    "\n",
    "\\begin{align}\n",
    "1.00\\dots0 \\times 2^{0} + 1.10\\dots0 \\times 2^{-52} &=  \\\\\n",
    "&= 1.0000000000000000000000000000000000000000000000000000|0 \\times 2^{0}\\\\\n",
    "&+ 0.0000000000000000000000000000000000000000000000000001|1 \\times 2^{0}\\\\\n",
    "&----------------------------------\\\\\n",
    "&= 1.0000000000000000000000000000000000000000000000000001|1 \\times 2^{0}\\\\\n",
    "&= 1.0000000000000000000000000000000000000000000000000010 \\times 2^{0}\n",
    "\\end{align}"
   ]
  },
  {
   "cell_type": "markdown",
   "metadata": {},
   "source": [
    "El resultado es igual a $1+2^{-51}$ y el valor esperado era $1+2^{-52}+2^{-53}$"
   ]
  },
  {
   "cell_type": "markdown",
   "metadata": {},
   "source": [
    "**Perdida de significancia**: Ocurre cuando se restan valores muy cercano, pero debido a la representación flotante su diferencia da cero. Esto se corrige con una manipulación algebraica."
   ]
  },
  {
   "cell_type": "markdown",
   "metadata": {},
   "source": [
    "**Ejemplo**:"
   ]
  },
  {
   "cell_type": "markdown",
   "metadata": {},
   "source": [
    "Veamos que sucede con:\n",
    "\n",
    "$$\n",
    "E1 = \\frac{1-cos(x)}{sin(x)^{2}}\n",
    "$$"
   ]
  },
  {
   "cell_type": "code",
   "execution_count": 91,
   "metadata": {},
   "outputs": [
    {
     "data": {
      "text/plain": [
       "1.0"
      ]
     },
     "execution_count": 91,
     "metadata": {},
     "output_type": "execute_result"
    }
   ],
   "source": [
    "np.cos(10**-8)"
   ]
  },
  {
   "cell_type": "code",
   "execution_count": 92,
   "metadata": {},
   "outputs": [],
   "source": [
    "def E1(x):\n",
    "    return((1-np.cos(x))/np.sin(x)**2)"
   ]
  },
  {
   "cell_type": "code",
   "execution_count": 95,
   "metadata": {},
   "outputs": [
    {
     "data": {
      "text/plain": [
       "0.0"
      ]
     },
     "execution_count": 95,
     "metadata": {},
     "output_type": "execute_result"
    }
   ],
   "source": [
    "E1(10**-8)"
   ]
  },
  {
   "cell_type": "markdown",
   "metadata": {},
   "source": [
    "Volvamos a escribir el problema:\n",
    "\n",
    "$$\n",
    "\\frac{1-cos(x)}{sin(x)^{2}} \\frac{1+cos(x)}{1+cos(x)} = \\frac{1^{2} - cos(x)^{2}}{sin(x)^{2}(1+cos(x))}= \\frac{sin(x)^{2}}{sin(x)^{2}(1+cos(x))} = \\frac{1}{1+cos(x)} = E2\n",
    "$$\n"
   ]
  },
  {
   "cell_type": "code",
   "execution_count": 96,
   "metadata": {},
   "outputs": [],
   "source": [
    "def E2(x):\n",
    "    return(1/(1+np.cos(x)))"
   ]
  },
  {
   "cell_type": "code",
   "execution_count": 98,
   "metadata": {},
   "outputs": [
    {
     "data": {
      "text/plain": [
       "0.5"
      ]
     },
     "execution_count": 98,
     "metadata": {},
     "output_type": "execute_result"
    }
   ],
   "source": [
    "E2(10**-9)"
   ]
  },
  {
   "cell_type": "markdown",
   "metadata": {},
   "source": [
    "**Ejemplo**:"
   ]
  },
  {
   "cell_type": "markdown",
   "metadata": {},
   "source": [
    "$$\n",
    "f(x) = \\frac{1-(1-x)^{3}}{x}\n",
    "$$"
   ]
  },
  {
   "cell_type": "code",
   "execution_count": 104,
   "metadata": {},
   "outputs": [],
   "source": [
    "def f(x):\n",
    "    return((1-(1-x)**3)/x)"
   ]
  },
  {
   "cell_type": "code",
   "execution_count": 111,
   "metadata": {},
   "outputs": [
    {
     "data": {
      "text/plain": [
       "0.0"
      ]
     },
     "execution_count": 111,
     "metadata": {},
     "output_type": "execute_result"
    }
   ],
   "source": [
    "f(10**-17)"
   ]
  },
  {
   "cell_type": "markdown",
   "metadata": {},
   "source": [
    "$$\n",
    "f(x) = \\frac{x^3 - 3 x^2 + 3 x}{x} = \\frac{x(x^2 - 3 x + 3)}{x} = (x^2 - 3 x + 3)\n",
    "$$"
   ]
  },
  {
   "cell_type": "code",
   "execution_count": 112,
   "metadata": {},
   "outputs": [],
   "source": [
    "def f2(x):\n",
    "    return(x**2 - 3*x + 3)"
   ]
  },
  {
   "cell_type": "code",
   "execution_count": 115,
   "metadata": {},
   "outputs": [
    {
     "data": {
      "text/plain": [
       "3.0"
      ]
     },
     "execution_count": 115,
     "metadata": {},
     "output_type": "execute_result"
    }
   ],
   "source": [
    "f2(10**-18)"
   ]
  },
  {
   "cell_type": "markdown",
   "metadata": {},
   "source": [
    "## Ejemplo\n",
    "\n",
    "\n",
    "Generar la línea recta con la representación de todos los números considerando:\n",
    "* 1 bit para el signo\n",
    "* 2 bits para la mantisa\n",
    "* 3 bits para el exponente\n",
    "\n",
    "En este caso tenemos la siguiente representación:\n",
    "\n",
    "| $\\text{Signo}$ | $\\text{Exponente}$   | $\\text{Mantisa}$ |\n",
    "|------|---------| ----|\n",
    "| 1 bit| 2 bits | 2 bits | \n",
    "|   $s$ | $e_{1}$$e_{2}$$e_3$ | $b_{1}$$b_{2}$ |\n",
    "\n",
    "Con esto podemos representar números como:\n",
    "\n",
    "\\begin{equation}\n",
    "    b = \\pm 1.b_1b_2\\times 2^p\n",
    "\\end{equation}\n",
    "\n",
    "Para los valores exponente podemos representar $2^3=8$ valores, omitiendo el $0$ y $7$ para los casos especiales, solo podemos usar $[1, 2, \\dots, 6]$. Calculando el bias obtenemos:\n",
    "\n",
    "\\begin{equation}\n",
    "    \\begin{split}\n",
    "        K & = 2^{n-1} - 1 \\\\\n",
    "         & = 2^2 - 1 \\\\\n",
    "         & = 3,\n",
    "    \\end{split}\n",
    "\\end{equation}\n",
    "\n",
    "es decir, $p\\in[1-3, 6-3] = [-2,3]$"
   ]
  },
  {
   "cell_type": "markdown",
   "metadata": {},
   "source": [
    "* ¿Cuál es el primer entero no representable para este caso? ¿En double precisión?\n",
    "\n",
    "En el caso del primer entero no representable para el **ejemplo** tenemos:\n",
    "\n",
    "\\begin{equation}\n",
    "    +1.11 \\cdot 2^p,\n",
    "\\end{equation}\n",
    "que es igual a \n",
    "\n",
    "\\begin{equation}\n",
    "    (2^{0} + 2^{-1} + 2^{-2}) \\cdot 2^p.\n",
    "\\end{equation}\n",
    "\n",
    "Para $p=2$ tenemos:\n",
    "\n",
    "\\begin{equation}\n",
    "    (2^{0} + 2^{-1} + 2^{-2}) \\cdot 2^2 \\\\\n",
    "    2^2 + 2^1 + 2^0,\n",
    "\\end{equation}\n",
    "\n",
    "hasta acá todo bien, pero ahora para el caso $p=3$\n",
    "\n",
    "\\begin{equation}\n",
    "    (2^{0} + 2^{-1} + 2^{-2}) \\cdot 2^3 \\\\\n",
    "    2^3 + 2^2 + 2^1,\n",
    "\\end{equation}\n",
    "\n",
    "o sea no alcanzamos a representar $\\mathbf{2^3+1}$.\n",
    "\n",
    "En el caso de **doble precisión**, utilizando el mismo argumento anterior, veamos la siguiente situación:\n",
    "\\begin{equation}\n",
    "    +1.1111\\dots 1111\\cdot 2^p,\n",
    "\\end{equation}\n",
    "\n",
    "esto es \n",
    "\\begin{equation}\n",
    "    (2^{0} + 2^{-1} + 2^{-2} + \\dots + 2^{-52}) \\cdot 2^p.\n",
    "\\end{equation}\n",
    "\n",
    "Para $p=52$, tenemos\n",
    "\n",
    "\\begin{equation}\n",
    "        (2^{0} + 2^{-1} + 2^{-2} + \\dots + 2^{-52}) \\cdot 2^{52} \\\\\n",
    "        2^{52} + 2^{51} + 2^{50} + \\dots + 2^{0}\n",
    "\\end{equation}\n",
    "\n",
    "Hasta acá no tenemos problemas para representar enteros consecutivos gracias a $2^0$, pero veamos el siguiente caso. Para $p=53$, tenemos\n",
    "\n",
    "\\begin{equation}\n",
    "        (2^{0} + 2^{-1} + 2^{-2} + \\dots + 2^{-52}) \\cdot 2^{53} \\\\\n",
    "        2^{53} + 2^{52} + 2^{51} + \\dots + 2^{1}\n",
    "\\end{equation}\n",
    "\n",
    "En este último caso ya no podemos representar números consecutivos, puesto a que para el bit $b_{52}$ siempre podremos sumar como mínimo $2$. De esta forma el primer valor entero que no podríamos representar sería $\\mathbf{2^{53} + 1}$."
   ]
  },
  {
   "cell_type": "markdown",
   "metadata": {},
   "source": [
    "* ¿Cuál es $\\epsilon_{\\text{mach}}$ para este caso?\n",
    "\n",
    "El número $1$ se puede representar como $1.00 \\times 2^0$ y el siguiente valor es $1.01 \\times 2^0$, esto quiere decir que:\n",
    "\n",
    "\\begin{equation}\n",
    "    \\epsilon_{mach}=1.01 \\times 2^0 - 1.00 \\times 2^0 = 0.01 \\times 2^0 = 1.00 \\times 2^{-2},\n",
    "\\end{equation}\n",
    "\n",
    "o sea $\\epsilon_{mach}=2^{-2}$"
   ]
  },
  {
   "cell_type": "markdown",
   "metadata": {},
   "source": [
    "* ¿Cuál es el menor número representable?\n",
    "\n",
    "Utilizando esta representación, el número más pequeño que se puede representar con $p=-2$ es:\n",
    "\n",
    "\\begin{equation}\n",
    "    \\begin{split}\n",
    "        b & = 0.01\\times 2^{-2} \\\\\n",
    "        b & = 2^{-4}\n",
    "    \\end{split}\n",
    "\\end{equation}"
   ]
  },
  {
   "cell_type": "markdown",
   "metadata": {},
   "source": [
    "<img src=\"img/recta.png\">\n",
    "<center><em>Recta de números representados por el ejemplo.</em></center>"
   ]
  },
  {
   "cell_type": "markdown",
   "metadata": {},
   "source": [
    "## Ejemplos experimentales"
   ]
  },
  {
   "cell_type": "code",
   "execution_count": 2,
   "metadata": {},
   "outputs": [],
   "source": [
    "def next_float(f):\n",
    "    #packing double-precision foat\n",
    "    b = bs.pack('>d', f)\n",
    "    \n",
    "    #extracting mantisa as unsigned int\n",
    "    #and adding up 1\n",
    "    m = b[12:].uint\n",
    "    m += 1\n",
    "    \n",
    "    #putting the result in his place\n",
    "    b[12:] = m\n",
    "    \n",
    "    return b.float\n",
    "\n",
    "def epsilon(f):\n",
    "    next_f = next_float(f)\n",
    "    return next_f - f\n",
    "\n",
    "def to_binary(f):\n",
    "    b = bs.pack('>d', f)\n",
    "    b = b.bin\n",
    "    #show sign + exponent + mantisa\n",
    "    print(b[0]+' '+b[1:12]+ ' '+b[12:])"
   ]
  },
  {
   "cell_type": "code",
   "execution_count": 7,
   "metadata": {},
   "outputs": [
    {
     "name": "stdout",
     "output_type": "stream",
     "text": [
      "0 10000000100 1010110110011001100110011001100110011001100110011010\n"
     ]
    }
   ],
   "source": [
    "to_binary(53.7)"
   ]
  },
  {
   "cell_type": "code",
   "execution_count": 10,
   "metadata": {
    "scrolled": true
   },
   "outputs": [
    {
     "data": {
      "text/plain": [
       "2.220446049250313e-16"
      ]
     },
     "execution_count": 10,
     "metadata": {},
     "output_type": "execute_result"
    }
   ],
   "source": [
    "epsilon(1)"
   ]
  },
  {
   "cell_type": "code",
   "execution_count": 11,
   "metadata": {},
   "outputs": [],
   "source": [
    "#values between 10**-32 and 10**+32\n",
    "values = np.array([10**i for i in range(-32,32)]).astype(float)\n",
    "\n",
    "#corresponding epsilons\n",
    "vepsilon = np.vectorize(epsilon)\n",
    "eps = vepsilon(values)"
   ]
  },
  {
   "cell_type": "code",
   "execution_count": 12,
   "metadata": {},
   "outputs": [
    {
     "data": {
      "image/png": "[encoded data removed]",
      "text/plain": [
       "<Figure size 864x288 with 2 Axes>"
      ]
     },
     "metadata": {
      "needs_background": "light"
     },
     "output_type": "display_data"
    }
   ],
   "source": [
    "plt.figure(figsize=(12, 4))\n",
    "plt.subplot(1, 2, 1)\n",
    "plt.plot(values, eps,'.',markersize=20)\n",
    "plt.xlabel('Values')\n",
    "plt.ylabel('Corresponding Epsilons')\n",
    "plt.title('Epsilons v/s Values')\n",
    "plt.grid(True)\n",
    "plt.subplot(1, 2, 2)\n",
    "plt.loglog(values, eps,'.')\n",
    "plt.xlabel('Values')\n",
    "plt.ylabel('Corresponding Epsilons')\n",
    "plt.title('Epsilons v/s Values')\n",
    "plt.grid(True)\n",
    "plt.tight_layout()\n",
    "plt.show()"
   ]
  },
  {
   "cell_type": "markdown",
   "metadata": {},
   "source": [
    "<img src=\"img/ej2.png\">"
   ]
  },
  {
   "cell_type": "markdown",
   "metadata": {},
   "source": [
    "* a) Si trabajamos con 11 bits en el exponente tenemos: $2^{11}$ = 2048 combinaciones de números. Por lo tanto trabajariamos entre [0,2047]. Pero como existen casos especiales para el 0 y el 2047 el rango en el que nos podriamos mover sería de [$1\\dots2046$]. Calculando el shift utilizando la formula $2^{n-1} - 1$ obtenemos que es : 1023 quedandonos así el el rango de los exponentes igual a [$-1022\\dots1023$].\n",
    "\n",
    "    Realizando el mismo estudio pero para 6 bits dada la perdida de 5 bits trabajariamos con un total de $2^{6}$ combinaciones de números. Por lo tanto el rango en que se mueve el exponente es igual a [0,63]. Descartando los casos especiales obtenemos que el rango es [1,62]. Calculando el shift ($2^{6-1}-1$) = 31 obtenemos que el rango de los exponentes queda como [-30,31]. Este esta dentro del rango que necesita tony stark por lo que recomiendo asignar los bits sobrantes a la mantisa para tener mas presición.\n",
    "    \n",
    "* b) $2^{-47}$. Ya que el ultimo bit de la mantisa es el 47. ($1.00\\dots\\underbrace{1}_{47} x 2^{0}- 1.00\\dots\\underbrace{1}_{47} x 2^{0}$)\n",
    "\n",
    "* c) Utilizando notación subnormal el menor número representable menor que 0 es el $2^{-47} 2^{-1022}$. Ya que este se representa como $0.00\\dots\\underbrace{0}_{47} x 2^{-1022}$\n",
    "\n",
    "* d) El ($2^{31} + 2^{30} \\dots 2^{0}$) + 1. Esto es debido a que cuando estamos trabajando con el exponente 31 que es el maximo exponente que podemos representar el ultimo entero exacto que podemos representar es $1.\\underbrace{1111111111111111111111111111111}_{31\\,1s}\\underbrace{00000000000000000000}_{20\\,0s} x 2^{31}$. Notar que todos los bits que estan en 0 representan números decimales, en especifico representan la suma de las potencias ($2^{-1}+2^{-2}\\dots 2^{-21})$. Esto equivale a una serie geometrica no infinita.\n",
    "\n",
    "$$\n",
    "\\displaystyle \\sum_{k=0}^{n} r^{k} = \\frac{1-r^{n+1}}{1-r} = \\frac{1-(\\frac{1}{2})^{21}}{1-\\frac{1}{2}} = 1.9999999\n",
    "$$\n",
    "\n",
    "    A este hay que restarle 1 por que no estoy considerando la suma desde 1 sino que desde $2^{-1}$ por lo tanto el resultado es $0.9999\\neq 1$. Esto significa que para poder representar $2^{31} + 2^{30} \\dots 2^{0}$) + 1 debemos hacer uso de $2^{32}$ pero no es posible representar.\n",
    "    \n",
    "e) Utilizando notación subnormal el menor número representable menor que 0 es el $2^{-52} 2^{-31}$. Ya que este se representa como $0.00\\dots\\underbrace{1}_{52} x 2^{-31}$"
   ]
  },
  {
   "cell_type": "markdown",
   "metadata": {},
   "source": [
    "<img src=\"img/ej3.png\">"
   ]
  },
  {
   "cell_type": "markdown",
   "metadata": {},
   "source": [
    "| $\\text{Signo}$ | $\\text{Exponente}$   | $\\text{Mantisa}$ |\n",
    "|------|---------| ----|\n",
    "| 1 bit| 3 bits | 4 bits | \n",
    "|   $s$ | $e_{1}$$e_{2}$$e_3$ | $b_{1}$$b_{2}$$b_{3}$ $b_{4}$  |"
   ]
  },
  {
   "cell_type": "markdown",
   "metadata": {},
   "source": [
    "1) $2^{-4}$. Ya que el ultimo bit de la mantisa es el 4. ($1.000\\underbrace{1}_{4} x 2^{0}- 1.000\\underbrace{0}_{4} x 2^{0}$)\n",
    "\n",
    "2) Realizando el shift al itervalo [1,6] obtenemos [-2,3]. Por lo tanto el menor número representable es $2^{-4}\\,2^{-2} = 2^{-6}$\n",
    "\n",
    "3) Primero lo llevaremos a la forma normal.\n",
    "\n",
    "$$\n",
    "1.1100|1100 \\dots \\times 2^{-1}\n",
    "$$\n",
    "\n",
    "Utilizando las reglas de la IEEE tenemos:\n",
    "\n",
    "$$\n",
    "1.1101 \\times 2^{-1}\n",
    "$$\n",
    "\n",
    "Ese número en decimal equivale a ($2^{-1}+2^{-2}+2^{-3}+2^{-5}$) = $0.90625$.\n",
    "\n",
    "Calculando el error relativo tenemos:\n",
    "\n",
    "$$\n",
    "\\frac{|0.90625-0.9|}{0.9} = 0.00694444444444442 < \\frac{1}{2} 2^{-4} = 0.03125\n",
    "$$\n",
    "\n",
    "4) **Correción**\n",
    "\n",
    "Caso 1:\n",
    "\n",
    "$$\n",
    "l1 = \\frac{1}{2} \\cdot \\frac{1}{2} = \\frac{1}{4} \\\\\n",
    "l2 = \\frac{1}{16} \\cdot \\frac{1}{16} = \\frac{1}{2^{8}}\\\\\n",
    "$$\n",
    "\n",
    "$$\n",
    "l3  =\n",
    "\\begin{align*}\n",
    "1&.0000 \\times 2^{-2}\\\\\n",
    "+1&.0000 \\times 2^{-8}\\\\\n",
    "\\end{align*}\n",
    "$$\n",
    "\n",
    "Eso es equivalente a: \n",
    "\n",
    "$$\n",
    "\\begin{align*}\n",
    "1&.000000000 \\times 2^{-2}\\\\\n",
    "+0&.000001000 \\times 2^{-2}\\\\\n",
    "-&--------\\\\\n",
    "1.&000001000 \\times 2^{-2}\n",
    "\\end{align*}\n",
    "$$\n",
    "\n",
    "Pero como podemos almacenar solo 4 digitos en la mantisa tenemos como resultado:\n",
    "\n",
    "$$\n",
    "1.0000 \\times 2^{-2} = \\frac{1}{4}\n",
    "$$\n",
    "Finalmente out es $\\frac{1}{2}$ luego de aplicar la raiz.\n",
    "\n",
    "Caso 2:\n",
    "$$\n",
    "M = \\frac{1}{2}\\\\\n",
    "m = \\frac{1}{16}\\\\\n",
    "\\frac{m}{M} = \\frac{\\frac{1}{16}}{\\frac{1}{2}} = \\frac{1}{8}\\\\\n",
    "l4 = \\frac{1}{8}\\cdot\\frac{1}{8} = \\frac{1}{64} = \\frac{1}{2^6}\n",
    "$$\n",
    "\n",
    "$$\n",
    "l5 = \n",
    "\\begin{align*}\n",
    "1&.0000\\times2^{0}\\\\\n",
    "+0&.0001\\times2^{-2}\n",
    "\\end{align*}\n",
    "$$\n",
    "\n",
    "Eso es equivalente a:\n",
    "$$\n",
    "\\begin{align}\n",
    "1&.000000\\times2^{0}\\\\\n",
    "+0&.000001\\times2^{0}\\\\\n",
    "-&------\\\\\n",
    "1&.000001 \\times2^{0}\n",
    "\\end{align}\n",
    "$$\n",
    "\n",
    "Pero como podemos almacenar solo 4 digitos en la mantisa tenemos como resultado:\n",
    "\n",
    "$$\n",
    "1.0000 \\times 2^{0}\n",
    "$$\n",
    "Luego:\n",
    "$$\n",
    "l6 = \\sqrt{1} = 1\n",
    "$$\n",
    "\n",
    "Finalmente out corresponde ser a $M \\times l6 = \\frac{1}{2}$"
   ]
  },
  {
   "cell_type": "code",
   "execution_count": null,
   "metadata": {},
   "outputs": [],
   "source": []
  },
  {
   "cell_type": "markdown",
   "metadata": {},
   "source": [
    "<img src=\"img/ej1.jpg\">"
   ]
  },
  {
   "cell_type": "code",
   "execution_count": 118,
   "metadata": {},
   "outputs": [
    {
     "data": {
      "text/plain": [
       "8.125"
      ]
     },
     "execution_count": 118,
     "metadata": {},
     "output_type": "execute_result"
    }
   ],
   "source": [
    "2**3 + 2**-3"
   ]
  },
  {
   "cell_type": "code",
   "execution_count": 119,
   "metadata": {},
   "outputs": [
    {
     "data": {
      "text/plain": [
       "0.125"
      ]
     },
     "execution_count": 119,
     "metadata": {},
     "output_type": "execute_result"
    }
   ],
   "source": [
    "2**-3"
   ]
  },
  {
   "cell_type": "code",
   "execution_count": null,
   "metadata": {},
   "outputs": [],
   "source": []
  }
 ],
 "metadata": {
  "kernelspec": {
   "display_name": "Python 3",
   "language": "python",
   "name": "python3"
  },
  "language_info": {
   "codemirror_mode": {
    "name": "ipython",
    "version": 3
   },
   "file_extension": ".py",
   "mimetype": "text/x-python",
   "name": "python",
   "nbconvert_exporter": "python",
   "pygments_lexer": "ipython3",
   "version": "3.7.6"
  }
 },
 "nbformat": 4,
 "nbformat_minor": 4
}
